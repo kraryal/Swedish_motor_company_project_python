{
 "cells": [
  {
   "cell_type": "markdown",
   "id": "c9e85ea1",
   "metadata": {},
   "source": [
    "## Problem"
   ]
  },
  {
   "cell_type": "markdown",
   "id": "cb07368e",
   "metadata": {},
   "source": [
    "The data gives the details of third party motor insurance claims in Sweden for the\n",
    "year 1977. In Sweden, all motor insurance companies apply identical risk\n",
    "arguments to classify customers, and thus their portfolios and their claims\n",
    "statistics can be combined. The data were compiled by a Swedish Committee on\n",
    "the Analysis of Risk Premium in Motor Insurance. The Committee was asked to\n",
    "look into the problem of analyzing the real influence on the claims of the risk\n",
    "arguments and to compare this structure with the actual tariff."
   ]
  },
  {
   "cell_type": "markdown",
   "id": "50520f2b",
   "metadata": {},
   "source": [
    "The insurance dataset holds 7 variables and the description of these variables are\n",
    "given below:\n",
    "\n",
    "Variable Description\n",
    "\n",
    "## Kilometers Kilometers travelled per year\n",
    "\n",
    "1: < 1000\n",
    "\n",
    "2: 1000-15000\n",
    "\n",
    "3: 15000-20000\n",
    "\n",
    "4: 20000-25000\n",
    "\n",
    "5: > 25000\n",
    "\n",
    "## Zone Geographical zone\n",
    "\n",
    "1: Stockholm, Göteborg, and Malmö with surroundings\n",
    "\n",
    "2: Other large cities with surroundings\n",
    "\n",
    "3: Smaller cities with surroundings in southern Sweden\n",
    "\n",
    "4: Rural areas in southern Sweden\n",
    "\n",
    "5: Smaller cities with surroundings in northern Sweden\n",
    "\n",
    "6: Rural areas in northern Sweden\n",
    "\n",
    "7: Gotland\n",
    "\n",
    "### Bonus : No claims bonus; equal to the number of years, plus one, since the last claim\n",
    "\n",
    "### Make : 1-8 represents eight different common car models. All other models are combined in class 9.\n",
    "\n",
    "### Insured : Number of insured in policy-years\n",
    "\n",
    "### Claims : Number of claims\n",
    "\n",
    "### Payment : Total value of payments in Skr (Swedish Krona)"
   ]
  },
  {
   "cell_type": "markdown",
   "id": "078da3ab",
   "metadata": {},
   "source": [
    "After understanding the data, you need to help the committee with the following:\n",
    " 1. The committee is interested to know each field of the data collected\n",
    "through descriptive analysis to gain basic insights into the data set and to\n",
    "prepare for further analysis.\n",
    " 2. The total value of payment by an insurance company is an important factor\n",
    "to be monitored. So the committee has decided to find whether this\n",
    "payment is related to number of claims and the number of insured policy\n",
    "years. They also want to visualize the results for better understanding.\n",
    " 3. The committee wants to figure out the reasons for insurance payment\n",
    "increase and decrease. So they have decided to find whether distance,\n",
    "location, bonus, make, and insured amount or claims are affecting the\n",
    "payment or all or some of these are affecting it.\n",
    " 4. The insurance company is planning to establish a new branch office, so they\n",
    "are interested to find at what location, kilometer, and bonus level their\n",
    "insured amount, claims, and payment get increased. \n",
    " 5. The committee wants to understand what affects their claim rates so as to\n",
    "decide the right premiums for a certain set of situations. Hence, they need\n",
    "to find whether the insured amount, zone, kilometer, bonus, or make\n",
    "affects the claim rates and to what extent."
   ]
  },
  {
   "cell_type": "markdown",
   "id": "e20badf9",
   "metadata": {},
   "source": [
    "## $\\color{red}{\\text{1. Data loading}}$"
   ]
  },
  {
   "cell_type": "code",
   "execution_count": 62,
   "id": "26874e0a",
   "metadata": {},
   "outputs": [],
   "source": [
    "import pandas as pd\n",
    "import pandas as pd\n",
    "import numpy as np\n",
    "import matplotlib.pyplot as plt\n",
    "import seaborn as sns\n",
    "%matplotlib inline"
   ]
  },
  {
   "cell_type": "code",
   "execution_count": 63,
   "id": "b6df7b05",
   "metadata": {},
   "outputs": [],
   "source": [
    "ins_data = pd.read_csv(\"SwedishMotorInsurance.csv\")"
   ]
  },
  {
   "cell_type": "markdown",
   "id": "fc56735c",
   "metadata": {},
   "source": [
    "Let's look at some statistical information about our dataframe."
   ]
  },
  {
   "cell_type": "markdown",
   "id": "95cb7699",
   "metadata": {},
   "source": [
    "## $\\color{red}{\\text{2. Exploratory Analysis |Preprocessing}}$"
   ]
  },
  {
   "cell_type": "code",
   "execution_count": 64,
   "id": "7be3a15d",
   "metadata": {},
   "outputs": [
    {
     "name": "stdout",
     "output_type": "stream",
     "text": [
      "<class 'pandas.core.frame.DataFrame'>\n",
      "RangeIndex: 2182 entries, 0 to 2181\n",
      "Data columns (total 7 columns):\n",
      " #   Column      Non-Null Count  Dtype  \n",
      "---  ------      --------------  -----  \n",
      " 0   Kilometres  2182 non-null   int64  \n",
      " 1   Zone        2182 non-null   int64  \n",
      " 2   Bonus       2182 non-null   int64  \n",
      " 3   Make        2182 non-null   int64  \n",
      " 4   Insured     2182 non-null   float64\n",
      " 5   Claims      2182 non-null   int64  \n",
      " 6   Payment     2182 non-null   int64  \n",
      "dtypes: float64(1), int64(6)\n",
      "memory usage: 119.5 KB\n"
     ]
    }
   ],
   "source": [
    "ins_data.info()"
   ]
  },
  {
   "cell_type": "code",
   "execution_count": 65,
   "id": "b71f5522",
   "metadata": {},
   "outputs": [
    {
     "data": {
      "text/html": [
       "<div>\n",
       "<style scoped>\n",
       "    .dataframe tbody tr th:only-of-type {\n",
       "        vertical-align: middle;\n",
       "    }\n",
       "\n",
       "    .dataframe tbody tr th {\n",
       "        vertical-align: top;\n",
       "    }\n",
       "\n",
       "    .dataframe thead th {\n",
       "        text-align: right;\n",
       "    }\n",
       "</style>\n",
       "<table border=\"1\" class=\"dataframe\">\n",
       "  <thead>\n",
       "    <tr style=\"text-align: right;\">\n",
       "      <th></th>\n",
       "      <th>Kilometres</th>\n",
       "      <th>Zone</th>\n",
       "      <th>Bonus</th>\n",
       "      <th>Make</th>\n",
       "      <th>Insured</th>\n",
       "      <th>Claims</th>\n",
       "      <th>Payment</th>\n",
       "    </tr>\n",
       "  </thead>\n",
       "  <tbody>\n",
       "    <tr>\n",
       "      <th>0</th>\n",
       "      <td>1</td>\n",
       "      <td>1</td>\n",
       "      <td>1</td>\n",
       "      <td>1</td>\n",
       "      <td>455.13</td>\n",
       "      <td>108</td>\n",
       "      <td>392491</td>\n",
       "    </tr>\n",
       "    <tr>\n",
       "      <th>1</th>\n",
       "      <td>1</td>\n",
       "      <td>1</td>\n",
       "      <td>1</td>\n",
       "      <td>2</td>\n",
       "      <td>69.17</td>\n",
       "      <td>19</td>\n",
       "      <td>46221</td>\n",
       "    </tr>\n",
       "    <tr>\n",
       "      <th>2</th>\n",
       "      <td>1</td>\n",
       "      <td>1</td>\n",
       "      <td>1</td>\n",
       "      <td>3</td>\n",
       "      <td>72.88</td>\n",
       "      <td>13</td>\n",
       "      <td>15694</td>\n",
       "    </tr>\n",
       "    <tr>\n",
       "      <th>3</th>\n",
       "      <td>1</td>\n",
       "      <td>1</td>\n",
       "      <td>1</td>\n",
       "      <td>4</td>\n",
       "      <td>1292.39</td>\n",
       "      <td>124</td>\n",
       "      <td>422201</td>\n",
       "    </tr>\n",
       "    <tr>\n",
       "      <th>4</th>\n",
       "      <td>1</td>\n",
       "      <td>1</td>\n",
       "      <td>1</td>\n",
       "      <td>5</td>\n",
       "      <td>191.01</td>\n",
       "      <td>40</td>\n",
       "      <td>119373</td>\n",
       "    </tr>\n",
       "  </tbody>\n",
       "</table>\n",
       "</div>"
      ],
      "text/plain": [
       "   Kilometres  Zone  Bonus  Make  Insured  Claims  Payment\n",
       "0           1     1      1     1   455.13     108   392491\n",
       "1           1     1      1     2    69.17      19    46221\n",
       "2           1     1      1     3    72.88      13    15694\n",
       "3           1     1      1     4  1292.39     124   422201\n",
       "4           1     1      1     5   191.01      40   119373"
      ]
     },
     "execution_count": 65,
     "metadata": {},
     "output_type": "execute_result"
    }
   ],
   "source": [
    "ins_data.head()"
   ]
  },
  {
   "cell_type": "code",
   "execution_count": 66,
   "id": "e9ee85aa",
   "metadata": {},
   "outputs": [
    {
     "data": {
      "text/html": [
       "<div>\n",
       "<style scoped>\n",
       "    .dataframe tbody tr th:only-of-type {\n",
       "        vertical-align: middle;\n",
       "    }\n",
       "\n",
       "    .dataframe tbody tr th {\n",
       "        vertical-align: top;\n",
       "    }\n",
       "\n",
       "    .dataframe thead th {\n",
       "        text-align: right;\n",
       "    }\n",
       "</style>\n",
       "<table border=\"1\" class=\"dataframe\">\n",
       "  <thead>\n",
       "    <tr style=\"text-align: right;\">\n",
       "      <th></th>\n",
       "      <th>Kilometres</th>\n",
       "      <th>Zone</th>\n",
       "      <th>Bonus</th>\n",
       "      <th>Make</th>\n",
       "      <th>Insured</th>\n",
       "      <th>Claims</th>\n",
       "      <th>Payment</th>\n",
       "    </tr>\n",
       "  </thead>\n",
       "  <tbody>\n",
       "    <tr>\n",
       "      <th>count</th>\n",
       "      <td>2182.000000</td>\n",
       "      <td>2182.000000</td>\n",
       "      <td>2182.000000</td>\n",
       "      <td>2182.000000</td>\n",
       "      <td>2182.000000</td>\n",
       "      <td>2182.000000</td>\n",
       "      <td>2.182000e+03</td>\n",
       "    </tr>\n",
       "    <tr>\n",
       "      <th>mean</th>\n",
       "      <td>2.985793</td>\n",
       "      <td>3.970211</td>\n",
       "      <td>4.015124</td>\n",
       "      <td>4.991751</td>\n",
       "      <td>1092.195270</td>\n",
       "      <td>51.865720</td>\n",
       "      <td>2.570076e+05</td>\n",
       "    </tr>\n",
       "    <tr>\n",
       "      <th>std</th>\n",
       "      <td>1.410409</td>\n",
       "      <td>1.988858</td>\n",
       "      <td>2.000516</td>\n",
       "      <td>2.586943</td>\n",
       "      <td>5661.156245</td>\n",
       "      <td>201.710694</td>\n",
       "      <td>1.017283e+06</td>\n",
       "    </tr>\n",
       "    <tr>\n",
       "      <th>min</th>\n",
       "      <td>1.000000</td>\n",
       "      <td>1.000000</td>\n",
       "      <td>1.000000</td>\n",
       "      <td>1.000000</td>\n",
       "      <td>0.010000</td>\n",
       "      <td>0.000000</td>\n",
       "      <td>0.000000e+00</td>\n",
       "    </tr>\n",
       "    <tr>\n",
       "      <th>25%</th>\n",
       "      <td>2.000000</td>\n",
       "      <td>2.000000</td>\n",
       "      <td>2.000000</td>\n",
       "      <td>3.000000</td>\n",
       "      <td>21.610000</td>\n",
       "      <td>1.000000</td>\n",
       "      <td>2.988750e+03</td>\n",
       "    </tr>\n",
       "    <tr>\n",
       "      <th>50%</th>\n",
       "      <td>3.000000</td>\n",
       "      <td>4.000000</td>\n",
       "      <td>4.000000</td>\n",
       "      <td>5.000000</td>\n",
       "      <td>81.525000</td>\n",
       "      <td>5.000000</td>\n",
       "      <td>2.740350e+04</td>\n",
       "    </tr>\n",
       "    <tr>\n",
       "      <th>75%</th>\n",
       "      <td>4.000000</td>\n",
       "      <td>6.000000</td>\n",
       "      <td>6.000000</td>\n",
       "      <td>7.000000</td>\n",
       "      <td>389.782500</td>\n",
       "      <td>21.000000</td>\n",
       "      <td>1.119538e+05</td>\n",
       "    </tr>\n",
       "    <tr>\n",
       "      <th>max</th>\n",
       "      <td>5.000000</td>\n",
       "      <td>7.000000</td>\n",
       "      <td>7.000000</td>\n",
       "      <td>9.000000</td>\n",
       "      <td>127687.270000</td>\n",
       "      <td>3338.000000</td>\n",
       "      <td>1.824503e+07</td>\n",
       "    </tr>\n",
       "  </tbody>\n",
       "</table>\n",
       "</div>"
      ],
      "text/plain": [
       "        Kilometres         Zone        Bonus         Make        Insured  \\\n",
       "count  2182.000000  2182.000000  2182.000000  2182.000000    2182.000000   \n",
       "mean      2.985793     3.970211     4.015124     4.991751    1092.195270   \n",
       "std       1.410409     1.988858     2.000516     2.586943    5661.156245   \n",
       "min       1.000000     1.000000     1.000000     1.000000       0.010000   \n",
       "25%       2.000000     2.000000     2.000000     3.000000      21.610000   \n",
       "50%       3.000000     4.000000     4.000000     5.000000      81.525000   \n",
       "75%       4.000000     6.000000     6.000000     7.000000     389.782500   \n",
       "max       5.000000     7.000000     7.000000     9.000000  127687.270000   \n",
       "\n",
       "            Claims       Payment  \n",
       "count  2182.000000  2.182000e+03  \n",
       "mean     51.865720  2.570076e+05  \n",
       "std     201.710694  1.017283e+06  \n",
       "min       0.000000  0.000000e+00  \n",
       "25%       1.000000  2.988750e+03  \n",
       "50%       5.000000  2.740350e+04  \n",
       "75%      21.000000  1.119538e+05  \n",
       "max    3338.000000  1.824503e+07  "
      ]
     },
     "execution_count": 66,
     "metadata": {},
     "output_type": "execute_result"
    }
   ],
   "source": [
    "ins_data.describe()"
   ]
  },
  {
   "cell_type": "markdown",
   "id": "ac9de36b",
   "metadata": {},
   "source": [
    "Checking any missing values present."
   ]
  },
  {
   "cell_type": "code",
   "execution_count": 67,
   "id": "2a675f6a",
   "metadata": {},
   "outputs": [
    {
     "data": {
      "text/html": [
       "<div>\n",
       "<style scoped>\n",
       "    .dataframe tbody tr th:only-of-type {\n",
       "        vertical-align: middle;\n",
       "    }\n",
       "\n",
       "    .dataframe tbody tr th {\n",
       "        vertical-align: top;\n",
       "    }\n",
       "\n",
       "    .dataframe thead th {\n",
       "        text-align: right;\n",
       "    }\n",
       "</style>\n",
       "<table border=\"1\" class=\"dataframe\">\n",
       "  <thead>\n",
       "    <tr style=\"text-align: right;\">\n",
       "      <th></th>\n",
       "      <th>Kilometres</th>\n",
       "      <th>Zone</th>\n",
       "      <th>Bonus</th>\n",
       "      <th>Make</th>\n",
       "      <th>Insured</th>\n",
       "      <th>Claims</th>\n",
       "      <th>Payment</th>\n",
       "    </tr>\n",
       "  </thead>\n",
       "  <tbody>\n",
       "  </tbody>\n",
       "</table>\n",
       "</div>"
      ],
      "text/plain": [
       "Empty DataFrame\n",
       "Columns: [Kilometres, Zone, Bonus, Make, Insured, Claims, Payment]\n",
       "Index: []"
      ]
     },
     "execution_count": 67,
     "metadata": {},
     "output_type": "execute_result"
    }
   ],
   "source": [
    "ins_data[ins_data.isnull().any(axis=1)]"
   ]
  },
  {
   "cell_type": "markdown",
   "id": "d9f6cca6",
   "metadata": {},
   "source": [
    "No missing values"
   ]
  },
  {
   "cell_type": "code",
   "execution_count": 68,
   "id": "cb19f77d",
   "metadata": {},
   "outputs": [
    {
     "data": {
      "text/plain": [
       "Kilometres    0\n",
       "Zone          0\n",
       "Bonus         0\n",
       "Make          0\n",
       "Insured       0\n",
       "Claims        0\n",
       "Payment       0\n",
       "dtype: int64"
      ]
     },
     "execution_count": 68,
     "metadata": {},
     "output_type": "execute_result"
    }
   ],
   "source": [
    "ins_data.isnull().sum()"
   ]
  },
  {
   "cell_type": "markdown",
   "id": "e33988a9",
   "metadata": {},
   "source": [
    "The value of payment need to be observed. So Payment is dependent variable and other variables Kilometres, Zone,\n",
    "Bonus, Make, Insured and claims are independent variables."
   ]
  },
  {
   "cell_type": "code",
   "execution_count": 69,
   "id": "980a8c57",
   "metadata": {},
   "outputs": [
    {
     "data": {
      "text/plain": [
       "Index(['Kilometres', 'Zone', 'Bonus', 'Make', 'Insured', 'Claims', 'Payment'], dtype='object')"
      ]
     },
     "execution_count": 69,
     "metadata": {},
     "output_type": "execute_result"
    }
   ],
   "source": [
    "ins_data.columns"
   ]
  },
  {
   "cell_type": "code",
   "execution_count": 70,
   "id": "43c368e7",
   "metadata": {},
   "outputs": [
    {
     "data": {
      "text/plain": [
       "(2182, 7)"
      ]
     },
     "execution_count": 70,
     "metadata": {},
     "output_type": "execute_result"
    }
   ],
   "source": [
    "ins_data.shape"
   ]
  },
  {
   "cell_type": "markdown",
   "id": "40c16e6c",
   "metadata": {},
   "source": [
    "\n",
    "## $\\color{blue}{\\text{3. Linear Regression}}$"
   ]
  },
  {
   "cell_type": "markdown",
   "id": "3a53d433",
   "metadata": {},
   "source": [
    "## $\\color{red}{\\text{Q.1 The committee is interested to know each field of the data collected through descriptive analysis to gain basic }}$\n",
    "## $\\color{red}{\\text{insights into the data set and to prepare for further analysis.}}$"
   ]
  },
  {
   "cell_type": "code",
   "execution_count": 71,
   "id": "fb1cf505",
   "metadata": {},
   "outputs": [],
   "source": [
    "X = ins_data[[ 'Insured', 'Claims']] # independent variables\n",
    "y = ins_data[['Payment']]\n",
    "      "
   ]
  },
  {
   "cell_type": "markdown",
   "id": "282808d7",
   "metadata": {},
   "source": [
    "Let's split data into train and test data for modeling"
   ]
  },
  {
   "cell_type": "code",
   "execution_count": 72,
   "id": "eb64de4d",
   "metadata": {},
   "outputs": [],
   "source": [
    "from sklearn.model_selection import train_test_split\n",
    "X_train, X_test, y_train, y_test = train_test_split(X, y, train_size=0.8, random_state = 100 )"
   ]
  },
  {
   "cell_type": "code",
   "execution_count": 73,
   "id": "6b574abf",
   "metadata": {},
   "outputs": [
    {
     "name": "stdout",
     "output_type": "stream",
     "text": [
      "(1745, 2)\n",
      "(437, 2)\n"
     ]
    }
   ],
   "source": [
    "print(X_train.shape)\n",
    "print(X_test.shape)"
   ]
  },
  {
   "cell_type": "code",
   "execution_count": 74,
   "id": "9cef8622",
   "metadata": {},
   "outputs": [
    {
     "name": "stdout",
     "output_type": "stream",
     "text": [
      "1745\n",
      "437\n"
     ]
    }
   ],
   "source": [
    "print(len(X_train))\n",
    "print(len(X_test))"
   ]
  },
  {
   "cell_type": "code",
   "execution_count": 75,
   "id": "418c7589",
   "metadata": {},
   "outputs": [],
   "source": [
    "import statsmodels.api as sm\n",
    "#X_train = sm.add_constant(X_train)\n",
    "first_linear_model = sm.OLS(y_train,X_train).fit()"
   ]
  },
  {
   "cell_type": "code",
   "execution_count": 76,
   "id": "80358e03",
   "metadata": {},
   "outputs": [
    {
     "data": {
      "text/plain": [
       "Insured      28.265806\n",
       "Claims     4288.988797\n",
       "dtype: float64"
      ]
     },
     "execution_count": 76,
     "metadata": {},
     "output_type": "execute_result"
    }
   ],
   "source": [
    "# print the coefficients\n",
    "first_linear_model.params"
   ]
  },
  {
   "cell_type": "code",
   "execution_count": 77,
   "id": "1860e6b4",
   "metadata": {},
   "outputs": [],
   "source": [
    "pred = first_linear_model.predict(X_test)"
   ]
  },
  {
   "cell_type": "code",
   "execution_count": 78,
   "id": "06eec8a1",
   "metadata": {},
   "outputs": [
    {
     "data": {
      "text/plain": [
       "1818     18380.429889\n",
       "225     142226.638748\n",
       "1129    574927.260583\n",
       "1507     87406.384073\n",
       "1750       594.429894\n",
       "            ...      \n",
       "1688     10961.632988\n",
       "1865     51144.569302\n",
       "551     101334.384248\n",
       "1065    400877.426678\n",
       "2114     14261.883901\n",
       "Length: 437, dtype: float64"
      ]
     },
     "execution_count": 78,
     "metadata": {},
     "output_type": "execute_result"
    }
   ],
   "source": [
    "pred"
   ]
  },
  {
   "cell_type": "code",
   "execution_count": 167,
   "id": "d07e3700",
   "metadata": {},
   "outputs": [
    {
     "data": {
      "text/plain": [
       "const        -24983.577564\n",
       "Kilometres     5118.780218\n",
       "Zone           2207.513376\n",
       "Bonus          1559.696220\n",
       "Make           -587.513229\n",
       "Insured          27.874803\n",
       "Claims         4302.909148\n",
       "dtype: float64"
      ]
     },
     "execution_count": 167,
     "metadata": {},
     "output_type": "execute_result"
    }
   ],
   "source": [
    "import statsmodels.api as sm\n",
    "\n",
    "X_train = sm.add_constant(X_train)\n",
    "\n",
    "# create a fitted model in one line\n",
    "lm_1 = sm.OLS(y_train,X_train).fit()\n",
    "\n",
    "# print the coefficients\n",
    "lm_1.params"
   ]
  },
  {
   "cell_type": "code",
   "execution_count": 168,
   "id": "3c234c8b",
   "metadata": {},
   "outputs": [
    {
     "name": "stdout",
     "output_type": "stream",
     "text": [
      "                            OLS Regression Results                            \n",
      "==============================================================================\n",
      "Dep. Variable:                Payment   R-squared:                       0.996\n",
      "Model:                            OLS   Adj. R-squared:                  0.996\n",
      "Method:                 Least Squares   F-statistic:                 6.589e+04\n",
      "Date:                Thu, 02 Dec 2021   Prob (F-statistic):               0.00\n",
      "Time:                        13:11:05   Log-Likelihood:                -21990.\n",
      "No. Observations:                1745   AIC:                         4.399e+04\n",
      "Df Residuals:                    1738   BIC:                         4.403e+04\n",
      "Df Model:                           6                                         \n",
      "Covariance Type:            nonrobust                                         \n",
      "==============================================================================\n",
      "                 coef    std err          t      P>|t|      [0.025      0.975]\n",
      "------------------------------------------------------------------------------\n",
      "const      -2.498e+04   7154.984     -3.492      0.000    -3.9e+04    -1.1e+04\n",
      "Kilometres  5118.7802   1231.822      4.155      0.000    2702.770    7534.790\n",
      "Zone        2207.5134    882.021      2.503      0.012     477.580    3937.447\n",
      "Bonus       1559.6962    876.085      1.780      0.075    -158.596    3277.989\n",
      "Make        -587.5132    694.794     -0.846      0.398   -1950.233     775.207\n",
      "Insured       27.8748      0.719     38.775      0.000      26.465      29.285\n",
      "Claims      4302.9091     20.955    205.338      0.000    4261.809    4344.009\n",
      "==============================================================================\n",
      "Omnibus:                      783.140   Durbin-Watson:                   2.017\n",
      "Prob(Omnibus):                  0.000   Jarque-Bera (JB):           121456.286\n",
      "Skew:                           1.021   Prob(JB):                         0.00\n",
      "Kurtosis:                      43.820   Cond. No.                     2.63e+04\n",
      "==============================================================================\n",
      "\n",
      "Warnings:\n",
      "[1] Standard Errors assume that the covariance matrix of the errors is correctly specified.\n",
      "[2] The condition number is large, 2.63e+04. This might indicate that there are\n",
      "strong multicollinearity or other numerical problems.\n"
     ]
    }
   ],
   "source": [
    "print(lm_1.summary())"
   ]
  },
  {
   "cell_type": "markdown",
   "id": "0f2be771",
   "metadata": {},
   "source": [
    "\n",
    "## $\\color{green}{\\text{Here p value is less than 0.05 then we can say that insured and Claims }}$\n",
    "## $\\color{green}{\\text{ significant variables.To find how much they can affect.}}$\n",
    "## $\\color{green}{\\text{ Let's find correlation.}}$"
   ]
  },
  {
   "cell_type": "code",
   "execution_count": 169,
   "id": "a35a0199",
   "metadata": {},
   "outputs": [
    {
     "data": {
      "image/png": "[encoded data removed]",
      "text/plain": [
       "<Figure size 432x288 with 1 Axes>"
      ]
     },
     "execution_count": 169,
     "metadata": {},
     "output_type": "execute_result"
    },
    {
     "data": {
      "image/png": "[encoded data removed]",
      "text/plain": [
       "<Figure size 432x288 with 1 Axes>"
      ]
     },
     "metadata": {
      "needs_background": "light"
     },
     "output_type": "display_data"
    }
   ],
   "source": [
    "error = lm_1.resid\n",
    "sm.qqplot(error, fit = 'True',line = '45')"
   ]
  },
  {
   "cell_type": "markdown",
   "id": "a7a9db85",
   "metadata": {},
   "source": [
    "std err represents the average distance that the observed values fall from the regression line. Conveniently, it tells you how wrong the regression model is on average using the units of the response variable. Smaller values are better because it indicates that the observations are closer to the fitted line"
   ]
  },
  {
   "cell_type": "markdown",
   "id": "fe7eb123",
   "metadata": {},
   "source": [
    "## $\\color{blue}{\\text{4. Check correlation with Insured with payment}}$"
   ]
  },
  {
   "cell_type": "markdown",
   "id": "0a178518",
   "metadata": {},
   "source": [
    "\n",
    "## $\\color{red}{\\text{Q.2 The total value of payment by an insurance company is an important factor to be}}$\n",
    "## $\\color{red}{\\text{monitored.So the committee has decided to find whether payment is related to number of }}$\n",
    "## $\\color{red}{\\text{ insured policy years.They also want to visualize the results for better understanding}}$ \n"
   ]
  },
  {
   "cell_type": "code",
   "execution_count": 170,
   "id": "eebe4fc7",
   "metadata": {},
   "outputs": [
    {
     "data": {
      "text/plain": [
       "0.9030321473633566"
      ]
     },
     "execution_count": 170,
     "metadata": {},
     "output_type": "execute_result"
    }
   ],
   "source": [
    "ins_data['Insured'].corr(ins_data['Payment'], method='spearman') "
   ]
  },
  {
   "cell_type": "code",
   "execution_count": 171,
   "id": "257a1464",
   "metadata": {},
   "outputs": [
    {
     "data": {
      "text/plain": [
       "0.9624432754165474"
      ]
     },
     "execution_count": 171,
     "metadata": {},
     "output_type": "execute_result"
    }
   ],
   "source": [
    "ins_data['Claims'].corr(ins_data['Payment'], method='spearman') "
   ]
  },
  {
   "cell_type": "code",
   "execution_count": 172,
   "id": "141299f5",
   "metadata": {},
   "outputs": [
    {
     "data": {
      "text/html": [
       "<style  type=\"text/css\" >\n",
       "    #T_3fea635e_539b_11ec_b5ad_7ba1336a8580row0_col0 {\n",
       "            background-color:  #b40426;\n",
       "            color:  #f1f1f1;\n",
       "        }    #T_3fea635e_539b_11ec_b5ad_7ba1336a8580row0_col1 {\n",
       "            background-color:  #93b5fe;\n",
       "            color:  #000000;\n",
       "        }    #T_3fea635e_539b_11ec_b5ad_7ba1336a8580row0_col2 {\n",
       "            background-color:  #3c4ec2;\n",
       "            color:  #f1f1f1;\n",
       "        }    #T_3fea635e_539b_11ec_b5ad_7ba1336a8580row0_col3 {\n",
       "            background-color:  #3b4cc0;\n",
       "            color:  #f1f1f1;\n",
       "        }    #T_3fea635e_539b_11ec_b5ad_7ba1336a8580row0_col4 {\n",
       "            background-color:  #3b4cc0;\n",
       "            color:  #f1f1f1;\n",
       "        }    #T_3fea635e_539b_11ec_b5ad_7ba1336a8580row0_col5 {\n",
       "            background-color:  #5572df;\n",
       "            color:  #000000;\n",
       "        }    #T_3fea635e_539b_11ec_b5ad_7ba1336a8580row0_col6 {\n",
       "            background-color:  #5572df;\n",
       "            color:  #000000;\n",
       "        }    #T_3fea635e_539b_11ec_b5ad_7ba1336a8580row1_col0 {\n",
       "            background-color:  #88abfd;\n",
       "            color:  #000000;\n",
       "        }    #T_3fea635e_539b_11ec_b5ad_7ba1336a8580row1_col1 {\n",
       "            background-color:  #b40426;\n",
       "            color:  #f1f1f1;\n",
       "        }    #T_3fea635e_539b_11ec_b5ad_7ba1336a8580row1_col2 {\n",
       "            background-color:  #3d50c3;\n",
       "            color:  #f1f1f1;\n",
       "        }    #T_3fea635e_539b_11ec_b5ad_7ba1336a8580row1_col3 {\n",
       "            background-color:  #3b4cc0;\n",
       "            color:  #f1f1f1;\n",
       "        }    #T_3fea635e_539b_11ec_b5ad_7ba1336a8580row1_col4 {\n",
       "            background-color:  #3c4ec2;\n",
       "            color:  #f1f1f1;\n",
       "        }    #T_3fea635e_539b_11ec_b5ad_7ba1336a8580row1_col5 {\n",
       "            background-color:  #3b4cc0;\n",
       "            color:  #f1f1f1;\n",
       "        }    #T_3fea635e_539b_11ec_b5ad_7ba1336a8580row1_col6 {\n",
       "            background-color:  #3b4cc0;\n",
       "            color:  #f1f1f1;\n",
       "        }    #T_3fea635e_539b_11ec_b5ad_7ba1336a8580row2_col0 {\n",
       "            background-color:  #8db0fe;\n",
       "            color:  #000000;\n",
       "        }    #T_3fea635e_539b_11ec_b5ad_7ba1336a8580row2_col1 {\n",
       "            background-color:  #9abbff;\n",
       "            color:  #000000;\n",
       "        }    #T_3fea635e_539b_11ec_b5ad_7ba1336a8580row2_col2 {\n",
       "            background-color:  #b40426;\n",
       "            color:  #f1f1f1;\n",
       "        }    #T_3fea635e_539b_11ec_b5ad_7ba1336a8580row2_col3 {\n",
       "            background-color:  #3c4ec2;\n",
       "            color:  #f1f1f1;\n",
       "        }    #T_3fea635e_539b_11ec_b5ad_7ba1336a8580row2_col4 {\n",
       "            background-color:  #e0dbd8;\n",
       "            color:  #000000;\n",
       "        }    #T_3fea635e_539b_11ec_b5ad_7ba1336a8580row2_col5 {\n",
       "            background-color:  #c6d6f1;\n",
       "            color:  #000000;\n",
       "        }    #T_3fea635e_539b_11ec_b5ad_7ba1336a8580row2_col6 {\n",
       "            background-color:  #c5d6f2;\n",
       "            color:  #000000;\n",
       "        }    #T_3fea635e_539b_11ec_b5ad_7ba1336a8580row3_col0 {\n",
       "            background-color:  #8badfd;\n",
       "            color:  #000000;\n",
       "        }    #T_3fea635e_539b_11ec_b5ad_7ba1336a8580row3_col1 {\n",
       "            background-color:  #96b7ff;\n",
       "            color:  #000000;\n",
       "        }    #T_3fea635e_539b_11ec_b5ad_7ba1336a8580row3_col2 {\n",
       "            background-color:  #3b4cc0;\n",
       "            color:  #f1f1f1;\n",
       "        }    #T_3fea635e_539b_11ec_b5ad_7ba1336a8580row3_col3 {\n",
       "            background-color:  #b40426;\n",
       "            color:  #f1f1f1;\n",
       "        }    #T_3fea635e_539b_11ec_b5ad_7ba1336a8580row3_col4 {\n",
       "            background-color:  #a9c6fd;\n",
       "            color:  #000000;\n",
       "        }    #T_3fea635e_539b_11ec_b5ad_7ba1336a8580row3_col5 {\n",
       "            background-color:  #b3cdfb;\n",
       "            color:  #000000;\n",
       "        }    #T_3fea635e_539b_11ec_b5ad_7ba1336a8580row3_col6 {\n",
       "            background-color:  #b1cbfc;\n",
       "            color:  #000000;\n",
       "        }    #T_3fea635e_539b_11ec_b5ad_7ba1336a8580row4_col0 {\n",
       "            background-color:  #3b4cc0;\n",
       "            color:  #f1f1f1;\n",
       "        }    #T_3fea635e_539b_11ec_b5ad_7ba1336a8580row4_col1 {\n",
       "            background-color:  #4961d2;\n",
       "            color:  #f1f1f1;\n",
       "        }    #T_3fea635e_539b_11ec_b5ad_7ba1336a8580row4_col2 {\n",
       "            background-color:  #afcafc;\n",
       "            color:  #000000;\n",
       "        }    #T_3fea635e_539b_11ec_b5ad_7ba1336a8580row4_col3 {\n",
       "            background-color:  #5e7de7;\n",
       "            color:  #000000;\n",
       "        }    #T_3fea635e_539b_11ec_b5ad_7ba1336a8580row4_col4 {\n",
       "            background-color:  #b40426;\n",
       "            color:  #f1f1f1;\n",
       "        }    #T_3fea635e_539b_11ec_b5ad_7ba1336a8580row4_col5 {\n",
       "            background-color:  #c53334;\n",
       "            color:  #f1f1f1;\n",
       "        }    #T_3fea635e_539b_11ec_b5ad_7ba1336a8580row4_col6 {\n",
       "            background-color:  #cd423b;\n",
       "            color:  #f1f1f1;\n",
       "        }    #T_3fea635e_539b_11ec_b5ad_7ba1336a8580row5_col0 {\n",
       "            background-color:  #4961d2;\n",
       "            color:  #f1f1f1;\n",
       "        }    #T_3fea635e_539b_11ec_b5ad_7ba1336a8580row5_col1 {\n",
       "            background-color:  #3b4cc0;\n",
       "            color:  #f1f1f1;\n",
       "        }    #T_3fea635e_539b_11ec_b5ad_7ba1336a8580row5_col2 {\n",
       "            background-color:  #7a9df8;\n",
       "            color:  #000000;\n",
       "        }    #T_3fea635e_539b_11ec_b5ad_7ba1336a8580row5_col3 {\n",
       "            background-color:  #5e7de7;\n",
       "            color:  #000000;\n",
       "        }    #T_3fea635e_539b_11ec_b5ad_7ba1336a8580row5_col4 {\n",
       "            background-color:  #c53334;\n",
       "            color:  #f1f1f1;\n",
       "        }    #T_3fea635e_539b_11ec_b5ad_7ba1336a8580row5_col5 {\n",
       "            background-color:  #b40426;\n",
       "            color:  #f1f1f1;\n",
       "        }    #T_3fea635e_539b_11ec_b5ad_7ba1336a8580row5_col6 {\n",
       "            background-color:  #be242e;\n",
       "            color:  #f1f1f1;\n",
       "        }    #T_3fea635e_539b_11ec_b5ad_7ba1336a8580row6_col0 {\n",
       "            background-color:  #4e68d8;\n",
       "            color:  #000000;\n",
       "        }    #T_3fea635e_539b_11ec_b5ad_7ba1336a8580row6_col1 {\n",
       "            background-color:  #3f53c6;\n",
       "            color:  #f1f1f1;\n",
       "        }    #T_3fea635e_539b_11ec_b5ad_7ba1336a8580row6_col2 {\n",
       "            background-color:  #7b9ff9;\n",
       "            color:  #000000;\n",
       "        }    #T_3fea635e_539b_11ec_b5ad_7ba1336a8580row6_col3 {\n",
       "            background-color:  #6180e9;\n",
       "            color:  #000000;\n",
       "        }    #T_3fea635e_539b_11ec_b5ad_7ba1336a8580row6_col4 {\n",
       "            background-color:  #cd423b;\n",
       "            color:  #f1f1f1;\n",
       "        }    #T_3fea635e_539b_11ec_b5ad_7ba1336a8580row6_col5 {\n",
       "            background-color:  #bd1f2d;\n",
       "            color:  #f1f1f1;\n",
       "        }    #T_3fea635e_539b_11ec_b5ad_7ba1336a8580row6_col6 {\n",
       "            background-color:  #b40426;\n",
       "            color:  #f1f1f1;\n",
       "        }</style><table id=\"T_3fea635e_539b_11ec_b5ad_7ba1336a8580\" ><thead>    <tr>        <th class=\"blank level0\" ></th>        <th class=\"col_heading level0 col0\" >Kilometres</th>        <th class=\"col_heading level0 col1\" >Zone</th>        <th class=\"col_heading level0 col2\" >Bonus</th>        <th class=\"col_heading level0 col3\" >Make</th>        <th class=\"col_heading level0 col4\" >Insured</th>        <th class=\"col_heading level0 col5\" >Claims</th>        <th class=\"col_heading level0 col6\" >Payment</th>    </tr></thead><tbody>\n",
       "                <tr>\n",
       "                        <th id=\"T_3fea635e_539b_11ec_b5ad_7ba1336a8580level0_row0\" class=\"row_heading level0 row0\" >Kilometres</th>\n",
       "                        <td id=\"T_3fea635e_539b_11ec_b5ad_7ba1336a8580row0_col0\" class=\"data row0 col0\" >1.000000</td>\n",
       "                        <td id=\"T_3fea635e_539b_11ec_b5ad_7ba1336a8580row0_col1\" class=\"data row0 col1\" >-0.013928</td>\n",
       "                        <td id=\"T_3fea635e_539b_11ec_b5ad_7ba1336a8580row0_col2\" class=\"data row0 col2\" >0.007206</td>\n",
       "                        <td id=\"T_3fea635e_539b_11ec_b5ad_7ba1336a8580row0_col3\" class=\"data row0 col3\" >-0.002677</td>\n",
       "                        <td id=\"T_3fea635e_539b_11ec_b5ad_7ba1336a8580row0_col4\" class=\"data row0 col4\" >-0.329021</td>\n",
       "                        <td id=\"T_3fea635e_539b_11ec_b5ad_7ba1336a8580row0_col5\" class=\"data row0 col5\" >-0.264260</td>\n",
       "                        <td id=\"T_3fea635e_539b_11ec_b5ad_7ba1336a8580row0_col6\" class=\"data row0 col6\" >-0.242175</td>\n",
       "            </tr>\n",
       "            <tr>\n",
       "                        <th id=\"T_3fea635e_539b_11ec_b5ad_7ba1336a8580level0_row1\" class=\"row_heading level0 row1\" >Zone</th>\n",
       "                        <td id=\"T_3fea635e_539b_11ec_b5ad_7ba1336a8580row1_col0\" class=\"data row1 col0\" >-0.013928</td>\n",
       "                        <td id=\"T_3fea635e_539b_11ec_b5ad_7ba1336a8580row1_col1\" class=\"data row1 col1\" >1.000000</td>\n",
       "                        <td id=\"T_3fea635e_539b_11ec_b5ad_7ba1336a8580row1_col2\" class=\"data row1 col2\" >0.011674</td>\n",
       "                        <td id=\"T_3fea635e_539b_11ec_b5ad_7ba1336a8580row1_col3\" class=\"data row1 col3\" >-0.005189</td>\n",
       "                        <td id=\"T_3fea635e_539b_11ec_b5ad_7ba1336a8580row1_col4\" class=\"data row1 col4\" >-0.320061</td>\n",
       "                        <td id=\"T_3fea635e_539b_11ec_b5ad_7ba1336a8580row1_col5\" class=\"data row1 col5\" >-0.386822</td>\n",
       "                        <td id=\"T_3fea635e_539b_11ec_b5ad_7ba1336a8580row1_col6\" class=\"data row1 col6\" >-0.363449</td>\n",
       "            </tr>\n",
       "            <tr>\n",
       "                        <th id=\"T_3fea635e_539b_11ec_b5ad_7ba1336a8580level0_row2\" class=\"row_heading level0 row2\" >Bonus</th>\n",
       "                        <td id=\"T_3fea635e_539b_11ec_b5ad_7ba1336a8580row2_col0\" class=\"data row2 col0\" >0.007206</td>\n",
       "                        <td id=\"T_3fea635e_539b_11ec_b5ad_7ba1336a8580row2_col1\" class=\"data row2 col1\" >0.011674</td>\n",
       "                        <td id=\"T_3fea635e_539b_11ec_b5ad_7ba1336a8580row2_col2\" class=\"data row2 col2\" >1.000000</td>\n",
       "                        <td id=\"T_3fea635e_539b_11ec_b5ad_7ba1336a8580row2_col3\" class=\"data row2 col3\" >0.002157</td>\n",
       "                        <td id=\"T_3fea635e_539b_11ec_b5ad_7ba1336a8580row2_col4\" class=\"data row2 col4\" >0.351141</td>\n",
       "                        <td id=\"T_3fea635e_539b_11ec_b5ad_7ba1336a8580row2_col5\" class=\"data row2 col5\" >0.197773</td>\n",
       "                        <td id=\"T_3fea635e_539b_11ec_b5ad_7ba1336a8580row2_col6\" class=\"data row2 col6\" >0.202058</td>\n",
       "            </tr>\n",
       "            <tr>\n",
       "                        <th id=\"T_3fea635e_539b_11ec_b5ad_7ba1336a8580level0_row3\" class=\"row_heading level0 row3\" >Make</th>\n",
       "                        <td id=\"T_3fea635e_539b_11ec_b5ad_7ba1336a8580row3_col0\" class=\"data row3 col0\" >-0.002677</td>\n",
       "                        <td id=\"T_3fea635e_539b_11ec_b5ad_7ba1336a8580row3_col1\" class=\"data row3 col1\" >-0.005189</td>\n",
       "                        <td id=\"T_3fea635e_539b_11ec_b5ad_7ba1336a8580row3_col2\" class=\"data row3 col2\" >0.002157</td>\n",
       "                        <td id=\"T_3fea635e_539b_11ec_b5ad_7ba1336a8580row3_col3\" class=\"data row3 col3\" >1.000000</td>\n",
       "                        <td id=\"T_3fea635e_539b_11ec_b5ad_7ba1336a8580row3_col4\" class=\"data row3 col4\" >0.111041</td>\n",
       "                        <td id=\"T_3fea635e_539b_11ec_b5ad_7ba1336a8580row3_col5\" class=\"data row3 col5\" >0.112388</td>\n",
       "                        <td id=\"T_3fea635e_539b_11ec_b5ad_7ba1336a8580row3_col6\" class=\"data row3 col6\" >0.118209</td>\n",
       "            </tr>\n",
       "            <tr>\n",
       "                        <th id=\"T_3fea635e_539b_11ec_b5ad_7ba1336a8580level0_row4\" class=\"row_heading level0 row4\" >Insured</th>\n",
       "                        <td id=\"T_3fea635e_539b_11ec_b5ad_7ba1336a8580row4_col0\" class=\"data row4 col0\" >-0.329021</td>\n",
       "                        <td id=\"T_3fea635e_539b_11ec_b5ad_7ba1336a8580row4_col1\" class=\"data row4 col1\" >-0.320061</td>\n",
       "                        <td id=\"T_3fea635e_539b_11ec_b5ad_7ba1336a8580row4_col2\" class=\"data row4 col2\" >0.351141</td>\n",
       "                        <td id=\"T_3fea635e_539b_11ec_b5ad_7ba1336a8580row4_col3\" class=\"data row4 col3\" >0.111041</td>\n",
       "                        <td id=\"T_3fea635e_539b_11ec_b5ad_7ba1336a8580row4_col4\" class=\"data row4 col4\" >1.000000</td>\n",
       "                        <td id=\"T_3fea635e_539b_11ec_b5ad_7ba1336a8580row4_col5\" class=\"data row4 col5\" >0.933337</td>\n",
       "                        <td id=\"T_3fea635e_539b_11ec_b5ad_7ba1336a8580row4_col6\" class=\"data row4 col6\" >0.903032</td>\n",
       "            </tr>\n",
       "            <tr>\n",
       "                        <th id=\"T_3fea635e_539b_11ec_b5ad_7ba1336a8580level0_row5\" class=\"row_heading level0 row5\" >Claims</th>\n",
       "                        <td id=\"T_3fea635e_539b_11ec_b5ad_7ba1336a8580row5_col0\" class=\"data row5 col0\" >-0.264260</td>\n",
       "                        <td id=\"T_3fea635e_539b_11ec_b5ad_7ba1336a8580row5_col1\" class=\"data row5 col1\" >-0.386822</td>\n",
       "                        <td id=\"T_3fea635e_539b_11ec_b5ad_7ba1336a8580row5_col2\" class=\"data row5 col2\" >0.197773</td>\n",
       "                        <td id=\"T_3fea635e_539b_11ec_b5ad_7ba1336a8580row5_col3\" class=\"data row5 col3\" >0.112388</td>\n",
       "                        <td id=\"T_3fea635e_539b_11ec_b5ad_7ba1336a8580row5_col4\" class=\"data row5 col4\" >0.933337</td>\n",
       "                        <td id=\"T_3fea635e_539b_11ec_b5ad_7ba1336a8580row5_col5\" class=\"data row5 col5\" >1.000000</td>\n",
       "                        <td id=\"T_3fea635e_539b_11ec_b5ad_7ba1336a8580row5_col6\" class=\"data row5 col6\" >0.962443</td>\n",
       "            </tr>\n",
       "            <tr>\n",
       "                        <th id=\"T_3fea635e_539b_11ec_b5ad_7ba1336a8580level0_row6\" class=\"row_heading level0 row6\" >Payment</th>\n",
       "                        <td id=\"T_3fea635e_539b_11ec_b5ad_7ba1336a8580row6_col0\" class=\"data row6 col0\" >-0.242175</td>\n",
       "                        <td id=\"T_3fea635e_539b_11ec_b5ad_7ba1336a8580row6_col1\" class=\"data row6 col1\" >-0.363449</td>\n",
       "                        <td id=\"T_3fea635e_539b_11ec_b5ad_7ba1336a8580row6_col2\" class=\"data row6 col2\" >0.202058</td>\n",
       "                        <td id=\"T_3fea635e_539b_11ec_b5ad_7ba1336a8580row6_col3\" class=\"data row6 col3\" >0.118209</td>\n",
       "                        <td id=\"T_3fea635e_539b_11ec_b5ad_7ba1336a8580row6_col4\" class=\"data row6 col4\" >0.903032</td>\n",
       "                        <td id=\"T_3fea635e_539b_11ec_b5ad_7ba1336a8580row6_col5\" class=\"data row6 col5\" >0.962443</td>\n",
       "                        <td id=\"T_3fea635e_539b_11ec_b5ad_7ba1336a8580row6_col6\" class=\"data row6 col6\" >1.000000</td>\n",
       "            </tr>\n",
       "    </tbody></table>"
      ],
      "text/plain": [
       "<pandas.io.formats.style.Styler at 0x7f45c9ef7510>"
      ]
     },
     "execution_count": 172,
     "metadata": {},
     "output_type": "execute_result"
    }
   ],
   "source": [
    "corr = ins_data.corr(method='spearman')\n",
    "corr.style.background_gradient(cmap='coolwarm')"
   ]
  },
  {
   "cell_type": "code",
   "execution_count": 186,
   "id": "36ee6e91",
   "metadata": {},
   "outputs": [
    {
     "data": {
      "text/plain": [
       "<matplotlib.axes._subplots.AxesSubplot at 0x7f45c9903d10>"
      ]
     },
     "execution_count": 186,
     "metadata": {},
     "output_type": "execute_result"
    },
    {
     "data": {
      "image/png": "[encoded data removed]",
      "text/plain": [
       "<Figure size 432x288 with 1 Axes>"
      ]
     },
     "metadata": {
      "needs_background": "light"
     },
     "output_type": "display_data"
    }
   ],
   "source": [
    "sns.scatterplot(data=ins_data, x=\"Insured\", y=\"Payment\", palette=\"deep\")"
   ]
  },
  {
   "cell_type": "code",
   "execution_count": 187,
   "id": "0d8c14dc",
   "metadata": {},
   "outputs": [
    {
     "data": {
      "text/plain": [
       "<matplotlib.axes._subplots.AxesSubplot at 0x7f45c9845110>"
      ]
     },
     "execution_count": 187,
     "metadata": {},
     "output_type": "execute_result"
    },
    {
     "data": {
      "image/png": "[encoded data removed]",
      "text/plain": [
       "<Figure size 432x288 with 1 Axes>"
      ]
     },
     "metadata": {
      "needs_background": "light"
     },
     "output_type": "display_data"
    }
   ],
   "source": [
    "sns.scatterplot(data=ins_data, x=\"Claims\", y=\"Payment\",palette=\"deep\")"
   ]
  },
  {
   "cell_type": "markdown",
   "id": "7d5a6409",
   "metadata": {},
   "source": [
    "\n",
    "## $\\color{red}{\\text{Q.3 The committee wants to figure out the reasons for insurance payment increase and decrease.}}$\n",
    "## $\\color{red}{\\text{So they have decided to find whether distance,location, bonus, make, insured amount or claims }}$\n",
    "## $\\color{red}{\\text{claims are affecting the payment or all or some of these are affecting it.}}$"
   ]
  },
  {
   "cell_type": "markdown",
   "id": "cf7f0168",
   "metadata": {},
   "source": [
    "## $\\color{blue}{\\text{5. Multiple linear regression}}$"
   ]
  },
  {
   "cell_type": "markdown",
   "id": "364493f8",
   "metadata": {},
   "source": [
    "Dependent variable = payment\n",
    "\n",
    "Independent variable = distance, location, bonus, make, insured amount, claims"
   ]
  },
  {
   "cell_type": "code",
   "execution_count": 224,
   "id": "2be96b91",
   "metadata": {},
   "outputs": [
    {
     "name": "stdout",
     "output_type": "stream",
     "text": [
      "                            OLS Regression Results                            \n",
      "==============================================================================\n",
      "Dep. Variable:                Payment   R-squared:                       0.995\n",
      "Model:                            OLS   Adj. R-squared:                  0.995\n",
      "Method:                 Least Squares   F-statistic:                 7.462e+04\n",
      "Date:                Thu, 02 Dec 2021   Prob (F-statistic):               0.00\n",
      "Time:                        14:12:39   Log-Likelihood:                -27461.\n",
      "No. Observations:                2182   AIC:                         5.494e+04\n",
      "Df Residuals:                    2175   BIC:                         5.498e+04\n",
      "Df Model:                           6                                         \n",
      "Covariance Type:            nonrobust                                         \n",
      "==============================================================================\n",
      "                 coef    std err          t      P>|t|      [0.025      0.975]\n",
      "------------------------------------------------------------------------------\n",
      "const      -2.173e+04   6338.112     -3.429      0.001   -3.42e+04   -9304.354\n",
      "Kilometres  4768.5641   1085.728      4.392      0.000    2639.392    6897.737\n",
      "Zone        2322.8967    773.508      3.003      0.003     806.005    3839.789\n",
      "Bonus       1182.8983    773.748      1.529      0.126    -334.465    2700.261\n",
      "Make        -754.2676    610.680     -1.235      0.217   -1951.845     443.310\n",
      "Insured       27.8802      0.665     41.913      0.000      26.576      29.185\n",
      "Claims      4315.8778     18.946    227.793      0.000    4278.723    4353.033\n",
      "==============================================================================\n",
      "Omnibus:                      877.117   Durbin-Watson:                   1.915\n",
      "Prob(Omnibus):                  0.000   Jarque-Bera (JB):           130119.607\n",
      "Skew:                           0.815   Prob(JB):                         0.00\n",
      "Kurtosis:                      40.796   Cond. No.                     2.43e+04\n",
      "==============================================================================\n",
      "\n",
      "Warnings:\n",
      "[1] Standard Errors assume that the covariance matrix of the errors is correctly specified.\n",
      "[2] The condition number is large, 2.43e+04. This might indicate that there are\n",
      "strong multicollinearity or other numerical problems.\n"
     ]
    }
   ],
   "source": [
    "X1 = ins_data[[ 'Kilometres', 'Zone', 'Bonus', 'Make', 'Insured', 'Claims']] # independent variables\n",
    "y1 = ins_data[['Payment']] # dependent variable\n",
    "X2 = sm.add_constant(X1)\n",
    "est = sm.OLS(y1, X2)\n",
    "est2 = est.fit()\n",
    "print(est2.summary())"
   ]
  },
  {
   "cell_type": "markdown",
   "id": "bcb44ae0",
   "metadata": {},
   "source": [
    "## $\\color{green}{\\text{Bonus and Make variable has P value greater than 0.05. So they are insignificant variables and others are }}$\n",
    "## $\\color{green}{\\text{significant variables. So distance,location, and insured amount and claims are affecting the payment.}}$"
   ]
  },
  {
   "cell_type": "markdown",
   "id": "94f52618",
   "metadata": {},
   "source": [
    "## $\\color{magenta}{\\text{Let's check with sklearn}}$"
   ]
  },
  {
   "cell_type": "code",
   "execution_count": 212,
   "id": "8e232167",
   "metadata": {},
   "outputs": [
    {
     "name": "stdout",
     "output_type": "stream",
     "text": [
      "[-21733.74151754]\n",
      "[[4768.56411089 2322.89665552 1182.89834626 -754.26761348   27.88015662\n",
      "  4315.87784346]]\n",
      "0.9951652619634151\n"
     ]
    }
   ],
   "source": [
    "from sklearn.linear_model import LinearRegression\n",
    "lm = LinearRegression()\n",
    "lm.fit(X1,y1)\n",
    "print(lm.intercept_)\n",
    "print(lm.coef_)\n",
    "print(lm.score(X1,y1))"
   ]
  },
  {
   "cell_type": "markdown",
   "id": "d0818c2f",
   "metadata": {},
   "source": [
    "## $\\color{magenta}{\\text{we got same coefficients.}}$"
   ]
  },
  {
   "cell_type": "code",
   "execution_count": 213,
   "id": "04dbb974",
   "metadata": {},
   "outputs": [
    {
     "data": {
      "text/plain": [
       "<matplotlib.axes._subplots.AxesSubplot at 0x7f45c926f250>"
      ]
     },
     "execution_count": 213,
     "metadata": {},
     "output_type": "execute_result"
    },
    {
     "data": {
      "image/png": "[encoded data removed]",
      "text/plain": [
       "<Figure size 1152x576 with 6 Axes>"
      ]
     },
     "metadata": {
      "needs_background": "light"
     },
     "output_type": "display_data"
    }
   ],
   "source": [
    "# visualize the relationship between the features and the response using scatterplots\n",
    "fig, axs = plt.subplots(1, 6, sharey=True)\n",
    "ins_data.plot(kind='scatter', x='Kilometres', y='Payment', ax=axs[0], figsize=(16, 8))\n",
    "ins_data.plot(kind='scatter', x='Zone', y='Payment', ax=axs[1])\n",
    "ins_data.plot(kind='scatter', x='Bonus', y='Payment', ax=axs[2])\n",
    "ins_data.plot(kind='scatter', x='Make', y='Payment', ax=axs[3], figsize=(16, 8))\n",
    "ins_data.plot(kind='scatter', x='Insured', y='Payment', ax=axs[4])\n",
    "ins_data.plot(kind='scatter', x='Claims', y='Payment', ax=axs[5])"
   ]
  },
  {
   "cell_type": "code",
   "execution_count": 214,
   "id": "ddc77498",
   "metadata": {},
   "outputs": [],
   "source": [
    "from sklearn.model_selection import train_test_split\n",
    "X1_train, X1_test, y1_train, y1_test = train_test_split(X1, y1, train_size=0.8, random_state = 100 )"
   ]
  },
  {
   "cell_type": "code",
   "execution_count": 215,
   "id": "dcf095eb",
   "metadata": {},
   "outputs": [],
   "source": [
    "# Prediction\n",
    "y_pred = lm.predict(X_test)\n",
    "#print(y_pred)"
   ]
  },
  {
   "cell_type": "code",
   "execution_count": 216,
   "id": "96afd18a",
   "metadata": {},
   "outputs": [],
   "source": [
    "from sklearn.metrics import mean_squared_error, r2_score\n",
    "mse = mean_squared_error(y_test, y_pred)\n",
    "r_squared = r2_score(y_test, y_pred)"
   ]
  },
  {
   "cell_type": "code",
   "execution_count": 217,
   "id": "b4e0a2dd",
   "metadata": {},
   "outputs": [],
   "source": [
    "from math import sqrt\n",
    "rmse = sqrt(mse)"
   ]
  },
  {
   "cell_type": "code",
   "execution_count": 218,
   "id": "5022458b",
   "metadata": {},
   "outputs": [
    {
     "name": "stdout",
     "output_type": "stream",
     "text": [
      "Mean_Squared_Error : 4301058741.597774\n",
      "Root_Mean_Squared_Error : 65582.45757516085\n",
      "r_square_value : 0.9904358335038108\n"
     ]
    }
   ],
   "source": [
    "print('Mean_Squared_Error :' ,mse)\n",
    "print('Root_Mean_Squared_Error :' ,rmse)\n",
    "print('r_square_value :',r_squared)"
   ]
  },
  {
   "cell_type": "markdown",
   "id": "e847de93",
   "metadata": {},
   "source": [
    "### \n",
    "## $\\color{red}{\\text{4. The insurance company is planning to establish a new branch office, so they are interested to find at what }}$\n",
    "## $\\color{red}{\\text{location, kilometer, and bonuslevel their insured amount, claims, and payment get increased. }}$"
   ]
  },
  {
   "cell_type": "code",
   "execution_count": 219,
   "id": "9c531250",
   "metadata": {},
   "outputs": [
    {
     "data": {
      "text/html": [
       "<div>\n",
       "<style scoped>\n",
       "    .dataframe tbody tr th:only-of-type {\n",
       "        vertical-align: middle;\n",
       "    }\n",
       "\n",
       "    .dataframe tbody tr th {\n",
       "        vertical-align: top;\n",
       "    }\n",
       "\n",
       "    .dataframe thead th {\n",
       "        text-align: right;\n",
       "    }\n",
       "</style>\n",
       "<table border=\"1\" class=\"dataframe\">\n",
       "  <thead>\n",
       "    <tr style=\"text-align: right;\">\n",
       "      <th></th>\n",
       "      <th>Insured</th>\n",
       "      <th>Claims</th>\n",
       "      <th>Payment</th>\n",
       "    </tr>\n",
       "    <tr>\n",
       "      <th>Zone</th>\n",
       "      <th></th>\n",
       "      <th></th>\n",
       "      <th></th>\n",
       "    </tr>\n",
       "  </thead>\n",
       "  <tbody>\n",
       "    <tr>\n",
       "      <th>4</th>\n",
       "      <td>2689.380413</td>\n",
       "      <td>101.311111</td>\n",
       "      <td>537071.755556</td>\n",
       "    </tr>\n",
       "    <tr>\n",
       "      <th>1</th>\n",
       "      <td>1036.171746</td>\n",
       "      <td>73.568254</td>\n",
       "      <td>338518.946032</td>\n",
       "    </tr>\n",
       "    <tr>\n",
       "      <th>2</th>\n",
       "      <td>1231.481841</td>\n",
       "      <td>67.625397</td>\n",
       "      <td>319921.517460</td>\n",
       "    </tr>\n",
       "    <tr>\n",
       "      <th>3</th>\n",
       "      <td>1362.958698</td>\n",
       "      <td>63.295238</td>\n",
       "      <td>307550.853968</td>\n",
       "    </tr>\n",
       "    <tr>\n",
       "      <th>6</th>\n",
       "      <td>802.684571</td>\n",
       "      <td>32.577778</td>\n",
       "      <td>175528.469841</td>\n",
       "    </tr>\n",
       "    <tr>\n",
       "      <th>5</th>\n",
       "      <td>384.801885</td>\n",
       "      <td>19.047923</td>\n",
       "      <td>93001.843450</td>\n",
       "    </tr>\n",
       "    <tr>\n",
       "      <th>7</th>\n",
       "      <td>64.910714</td>\n",
       "      <td>2.108844</td>\n",
       "      <td>9948.190476</td>\n",
       "    </tr>\n",
       "  </tbody>\n",
       "</table>\n",
       "</div>"
      ],
      "text/plain": [
       "          Insured      Claims        Payment\n",
       "Zone                                        \n",
       "4     2689.380413  101.311111  537071.755556\n",
       "1     1036.171746   73.568254  338518.946032\n",
       "2     1231.481841   67.625397  319921.517460\n",
       "3     1362.958698   63.295238  307550.853968\n",
       "6      802.684571   32.577778  175528.469841\n",
       "5      384.801885   19.047923   93001.843450\n",
       "7       64.910714    2.108844    9948.190476"
      ]
     },
     "metadata": {},
     "output_type": "display_data"
    }
   ],
   "source": [
    "ins_data2 = ins_data.groupby(['Zone']).mean()\n",
    "ins_data2 = ins_data2.drop(columns = ['Kilometres', 'Bonus', 'Make'])\n",
    "ins_data2 = ins_data2.sort_values(by = 'Payment',ascending = False)\n",
    "display(ins_data2)\n"
   ]
  },
  {
   "cell_type": "markdown",
   "id": "450a213b",
   "metadata": {},
   "source": [
    "## $\\color{magenta}{\\text{Zone 4 has highest number of claims and highest payment as well.}}$"
   ]
  },
  {
   "cell_type": "code",
   "execution_count": 220,
   "id": "9af33a0b",
   "metadata": {},
   "outputs": [
    {
     "data": {
      "text/html": [
       "<div>\n",
       "<style scoped>\n",
       "    .dataframe tbody tr th:only-of-type {\n",
       "        vertical-align: middle;\n",
       "    }\n",
       "\n",
       "    .dataframe tbody tr th {\n",
       "        vertical-align: top;\n",
       "    }\n",
       "\n",
       "    .dataframe thead th {\n",
       "        text-align: right;\n",
       "    }\n",
       "</style>\n",
       "<table border=\"1\" class=\"dataframe\">\n",
       "  <thead>\n",
       "    <tr style=\"text-align: right;\">\n",
       "      <th></th>\n",
       "      <th>Insured</th>\n",
       "      <th>Claims</th>\n",
       "      <th>Payment</th>\n",
       "    </tr>\n",
       "    <tr>\n",
       "      <th>Kilometres</th>\n",
       "      <th></th>\n",
       "      <th></th>\n",
       "      <th></th>\n",
       "    </tr>\n",
       "  </thead>\n",
       "  <tbody>\n",
       "    <tr>\n",
       "      <th>2</th>\n",
       "      <td>1824.028844</td>\n",
       "      <td>89.276644</td>\n",
       "      <td>442523.780045</td>\n",
       "    </tr>\n",
       "    <tr>\n",
       "      <th>1</th>\n",
       "      <td>1837.816287</td>\n",
       "      <td>75.594533</td>\n",
       "      <td>361899.350797</td>\n",
       "    </tr>\n",
       "    <tr>\n",
       "      <th>3</th>\n",
       "      <td>1081.971383</td>\n",
       "      <td>54.160998</td>\n",
       "      <td>272012.582766</td>\n",
       "    </tr>\n",
       "    <tr>\n",
       "      <th>4</th>\n",
       "      <td>398.963226</td>\n",
       "      <td>20.794931</td>\n",
       "      <td>108213.405530</td>\n",
       "    </tr>\n",
       "    <tr>\n",
       "      <th>5</th>\n",
       "      <td>284.947518</td>\n",
       "      <td>18.042155</td>\n",
       "      <td>93306.117096</td>\n",
       "    </tr>\n",
       "  </tbody>\n",
       "</table>\n",
       "</div>"
      ],
      "text/plain": [
       "                Insured     Claims        Payment\n",
       "Kilometres                                       \n",
       "2           1824.028844  89.276644  442523.780045\n",
       "1           1837.816287  75.594533  361899.350797\n",
       "3           1081.971383  54.160998  272012.582766\n",
       "4            398.963226  20.794931  108213.405530\n",
       "5            284.947518  18.042155   93306.117096"
      ]
     },
     "metadata": {},
     "output_type": "display_data"
    }
   ],
   "source": [
    "ins_data3 = ins_data.groupby(['Kilometres']).mean()\n",
    "ins_data3 = ins_data3.drop(columns = ['Zone', 'Bonus', 'Make'])\n",
    "ins_data3 = ins_data3.sort_values(by = 'Payment',ascending = False)\n",
    "display(ins_data3)"
   ]
  },
  {
   "cell_type": "markdown",
   "id": "bb234023",
   "metadata": {},
   "source": [
    "## $\\color{magenta}{\\text{Kilometer group 2 has highest amount of payment}}$"
   ]
  },
  {
   "cell_type": "code",
   "execution_count": 221,
   "id": "7cb18ce6",
   "metadata": {},
   "outputs": [
    {
     "data": {
      "text/html": [
       "<div>\n",
       "<style scoped>\n",
       "    .dataframe tbody tr th:only-of-type {\n",
       "        vertical-align: middle;\n",
       "    }\n",
       "\n",
       "    .dataframe tbody tr th {\n",
       "        vertical-align: top;\n",
       "    }\n",
       "\n",
       "    .dataframe thead th {\n",
       "        text-align: right;\n",
       "    }\n",
       "</style>\n",
       "<table border=\"1\" class=\"dataframe\">\n",
       "  <thead>\n",
       "    <tr style=\"text-align: right;\">\n",
       "      <th></th>\n",
       "      <th>Insured</th>\n",
       "      <th>Claims</th>\n",
       "      <th>Payment</th>\n",
       "    </tr>\n",
       "    <tr>\n",
       "      <th>Bonus</th>\n",
       "      <th></th>\n",
       "      <th></th>\n",
       "      <th></th>\n",
       "    </tr>\n",
       "  </thead>\n",
       "  <tbody>\n",
       "    <tr>\n",
       "      <th>7</th>\n",
       "      <td>4620.372762</td>\n",
       "      <td>157.222222</td>\n",
       "      <td>819322.476190</td>\n",
       "    </tr>\n",
       "    <tr>\n",
       "      <th>1</th>\n",
       "      <td>525.550195</td>\n",
       "      <td>62.504886</td>\n",
       "      <td>282921.993485</td>\n",
       "    </tr>\n",
       "    <tr>\n",
       "      <th>6</th>\n",
       "      <td>805.816730</td>\n",
       "      <td>39.942857</td>\n",
       "      <td>197723.819048</td>\n",
       "    </tr>\n",
       "    <tr>\n",
       "      <th>2</th>\n",
       "      <td>451.075449</td>\n",
       "      <td>34.233974</td>\n",
       "      <td>163316.625000</td>\n",
       "    </tr>\n",
       "    <tr>\n",
       "      <th>3</th>\n",
       "      <td>397.473742</td>\n",
       "      <td>24.974194</td>\n",
       "      <td>122656.174194</td>\n",
       "    </tr>\n",
       "    <tr>\n",
       "      <th>5</th>\n",
       "      <td>437.393610</td>\n",
       "      <td>22.821086</td>\n",
       "      <td>108790.504792</td>\n",
       "    </tr>\n",
       "    <tr>\n",
       "      <th>4</th>\n",
       "      <td>360.386710</td>\n",
       "      <td>20.351613</td>\n",
       "      <td>98498.119355</td>\n",
       "    </tr>\n",
       "  </tbody>\n",
       "</table>\n",
       "</div>"
      ],
      "text/plain": [
       "           Insured      Claims        Payment\n",
       "Bonus                                        \n",
       "7      4620.372762  157.222222  819322.476190\n",
       "1       525.550195   62.504886  282921.993485\n",
       "6       805.816730   39.942857  197723.819048\n",
       "2       451.075449   34.233974  163316.625000\n",
       "3       397.473742   24.974194  122656.174194\n",
       "5       437.393610   22.821086  108790.504792\n",
       "4       360.386710   20.351613   98498.119355"
      ]
     },
     "metadata": {},
     "output_type": "display_data"
    }
   ],
   "source": [
    "ins_data4 = ins_data.groupby(['Bonus']).mean()\n",
    "ins_data4 = ins_data4.drop(columns = ['Kilometres','Zone', 'Make'])\n",
    "ins_data4 = ins_data4.sort_values(by = 'Payment',ascending = False)\n",
    "display(ins_data4)"
   ]
  },
  {
   "cell_type": "markdown",
   "id": "7ce48f13",
   "metadata": {},
   "source": [
    "## $\\color{magenta}{\\text{For the Bonus level 7 there is highest number of claims as well as payment.}}$"
   ]
  },
  {
   "cell_type": "markdown",
   "id": "e6a24a1f",
   "metadata": {},
   "source": [
    "\n",
    "## $\\color{red}{\\text{ 5. The committee wants to understand what affects their claim rates so as to decide the right premiums for a }}$\n",
    "## $\\color{red}{\\text{certain set of situations.Hence, they need to find whether the insured amount, zone, kilometer, bonus, or make }}$\n",
    "## $\\color{red}{\\text{affects the claim rates and to what extent.}}$"
   ]
  },
  {
   "cell_type": "markdown",
   "id": "44451b90",
   "metadata": {},
   "source": [
    "Dependent variable = Claims\n",
    "\n",
    "Independent variable = insured amount, zone, Kilometres, bonus, make"
   ]
  },
  {
   "cell_type": "code",
   "execution_count": 223,
   "id": "a9af07a5",
   "metadata": {},
   "outputs": [
    {
     "name": "stdout",
     "output_type": "stream",
     "text": [
      "                            OLS Regression Results                            \n",
      "==============================================================================\n",
      "Dep. Variable:                 Claims   R-squared:                       0.842\n",
      "Model:                            OLS   Adj. R-squared:                  0.842\n",
      "Method:                 Least Squares   F-statistic:                     2328.\n",
      "Date:                Thu, 02 Dec 2021   Prob (F-statistic):               0.00\n",
      "Time:                        14:10:39   Log-Likelihood:                -12659.\n",
      "No. Observations:                2182   AIC:                         2.533e+04\n",
      "Df Residuals:                    2176   BIC:                         2.536e+04\n",
      "Df Model:                           5                                         \n",
      "Covariance Type:            nonrobust                                         \n",
      "==============================================================================\n",
      "                 coef    std err          t      P>|t|      [0.025      0.975]\n",
      "------------------------------------------------------------------------------\n",
      "const         37.1230      7.127      5.209      0.000      23.146      51.100\n",
      "Kilometres    -3.9649      1.226     -3.235      0.001      -6.368      -1.562\n",
      "Zone          -6.2924      0.865     -7.277      0.000      -7.988      -4.597\n",
      "Bonus         -4.2468      0.871     -4.877      0.000      -5.954      -2.539\n",
      "Make           6.7725      0.676     10.025      0.000       5.448       8.097\n",
      "Insured        0.0319      0.000    100.933      0.000       0.031       0.032\n",
      "==============================================================================\n",
      "Omnibus:                     2561.874   Durbin-Watson:                   1.931\n",
      "Prob(Omnibus):                  0.000   Jarque-Bera (JB):          1103060.709\n",
      "Skew:                           5.491   Prob(JB):                         0.00\n",
      "Kurtosis:                     112.599   Cond. No.                     2.41e+04\n",
      "==============================================================================\n",
      "\n",
      "Warnings:\n",
      "[1] Standard Errors assume that the covariance matrix of the errors is correctly specified.\n",
      "[2] The condition number is large, 2.41e+04. This might indicate that there are\n",
      "strong multicollinearity or other numerical problems.\n"
     ]
    }
   ],
   "source": [
    "X3 = ins_data[[ 'Kilometres', 'Zone', 'Bonus', 'Make', 'Insured']] # independent variables\n",
    "y3 = ins_data[['Claims']] # dependent variable\n",
    "X3 = sm.add_constant(X3)\n",
    "est2 = sm.OLS(y3, X3)\n",
    "est3 = est2.fit()\n",
    "print(est3.summary())"
   ]
  },
  {
   "cell_type": "markdown",
   "id": "ba6b613d",
   "metadata": {},
   "source": [
    "\n",
    "## $\\color{green}{\\text{It shows that P value for all variables Kilometres, Zone, Bonus, Make and Isured amount are less than 0.05.}}$\n",
    "## $\\color{green}{\\text{So they are significant variables for the Claims.}}$"
   ]
  },
  {
   "cell_type": "code",
   "execution_count": null,
   "id": "7db0f84b",
   "metadata": {},
   "outputs": [],
   "source": []
  }
 ],
 "metadata": {
  "kernelspec": {
   "display_name": "Python 3 (ipykernel)",
   "language": "python",
   "name": "python3"
  },
  "language_info": {
   "codemirror_mode": {
    "name": "ipython",
    "version": 3
   },
   "file_extension": ".py",
   "mimetype": "text/x-python",
   "name": "python",
   "nbconvert_exporter": "python",
   "pygments_lexer": "ipython3",
   "version": "3.8.3"
  }
 },
 "nbformat": 4,
 "nbformat_minor": 5
}
