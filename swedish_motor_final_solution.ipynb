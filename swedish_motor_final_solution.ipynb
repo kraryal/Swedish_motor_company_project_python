{
 "cells": [
  {
   "cell_type": "markdown",
   "metadata": {
    "toc": true
   },
   "source": [
    "<h1>Table of Contents<span class=\"tocSkip\"></span></h1>\n",
    "<div class=\"toc\"><ul class=\"toc-item\"><li><span><a href=\"#-Problem-statement\" data-toc-modified-id=\"-Problem-statement-1\"><strong> Problem statement</strong></a></span><ul class=\"toc-item\"><li><span><a href=\"#1.-Data-loading\" data-toc-modified-id=\"1.-Data-loading-1.1\"><strong>1. Data loading</strong></a></span></li><li><span><a href=\"#2.-Exploratory-Analysis-|-Preprocessing\" data-toc-modified-id=\"2.-Exploratory-Analysis-|-Preprocessing-1.2\"><strong>2. Exploratory Analysis | Preprocessing</strong></a></span></li></ul></li><li><span><a href=\"#Problems-and-my-solution-approach\" data-toc-modified-id=\"Problems-and-my-solution-approach-2\"><strong>Problems and my solution approach</strong></a></span><ul class=\"toc-item\"><li><span><a href=\"#Q.1-The-committee-is-interested-to-know-each-field-of-the-data-collected-through-descriptiveanalysis-to-gain-basic-insights-into-the-data-set-and-to-prepare-for-further-analysis.\" data-toc-modified-id=\"Q.1-The-committee-is-interested-to-know-each-field-of-the-data-collected-through-descriptiveanalysis-to-gain-basic-insights-into-the-data-set-and-to-prepare-for-further-analysis.-2.1\"><strong>Q.1 The committee is interested to know each field of the data collected through descriptiveanalysis to gain basic insights into the data set and to prepare for further analysis.</strong></a></span><ul class=\"toc-item\"><li><span><a href=\"#Q.1-Conclusion\" data-toc-modified-id=\"Q.1-Conclusion-2.1.1\"><strong>Q.1 Conclusion</strong></a></span></li></ul></li><li><span><a href=\"#Q.2-The-total-value-of-payment-by-an-insurance-company-is-an-important-factor-to-be-monitored.So-the-committee-has-decided-to-find-whether-payment-is-related-to-number-of-insured-policy-years.They-also-want-to-visualize-the-results-for-better-understanding\" data-toc-modified-id=\"Q.2-The-total-value-of-payment-by-an-insurance-company-is-an-important-factor-to-be-monitored.So-the-committee-has-decided-to-find-whether-payment-is-related-to-number-of-insured-policy-years.They-also-want-to-visualize-the-results-for-better-understanding-2.2\"><strong>Q.2 The total value of payment by an insurance company is an important factor to be monitored.So the committee has decided to find whether payment is related to number of insured policy years.They also want to visualize the results for better understanding</strong></a></span><ul class=\"toc-item\"><li><span><a href=\"#Q.2-Conclusion\" data-toc-modified-id=\"Q.2-Conclusion-2.2.1\"><strong>Q.2 Conclusion</strong></a></span></li></ul></li><li><span><a href=\"#Q.3-The-committee-wants-to-figure-out-the-reasons-for-insurance-payment-increase-and-decrease.So-they-have-decided-to-find-whether-distance,location,-bonus,-make,-insured-amount-or-claims-claims-are-affecting-the-payment-or-all-or-some-of-these-are-affecting-it.\" data-toc-modified-id=\"Q.3-The-committee-wants-to-figure-out-the-reasons-for-insurance-payment-increase-and-decrease.So-they-have-decided-to-find-whether-distance,location,-bonus,-make,-insured-amount-or-claims-claims-are-affecting-the-payment-or-all-or-some-of-these-are-affecting-it.-2.3\"><strong>Q.3 The committee wants to figure out the reasons for insurance payment increase and decrease.So they have decided to find whether distance,location, bonus, make, insured amount or claims claims are affecting the payment or all or some of these are affecting it.</strong></a></span><ul class=\"toc-item\"><li><span><a href=\"#Q.3-Conclusion\" data-toc-modified-id=\"Q.3-Conclusion-2.3.1\"><strong>Q.3 Conclusion</strong></a></span></li></ul></li><li><span><a href=\"#Q.4-The-insurance-company-is-planning-to-establish-a-new-branch-office,-so-they-are-interested-to-find-at-what-location,-kilometer,-and-bonuslevel-their-insured-amount,claims,-and-payment-get-increased.\" data-toc-modified-id=\"Q.4-The-insurance-company-is-planning-to-establish-a-new-branch-office,-so-they-are-interested-to-find-at-what-location,-kilometer,-and-bonuslevel-their-insured-amount,claims,-and-payment-get-increased.-2.4\"><strong>Q.4 The insurance company is planning to establish a new branch office, so they are interested to find at what location, kilometer, and bonuslevel their insured amount,claims, and payment get increased.</strong></a></span><ul class=\"toc-item\"><li><span><a href=\"#Q.4-Conclusion\" data-toc-modified-id=\"Q.4-Conclusion-2.4.1\"><strong>Q.4 Conclusion</strong></a></span></li></ul></li><li><span><a href=\"#Q.5-The-committee-wants-to-understand-what-affects-their-claim-rates-so-as-to-decide-the-right-premiums-for-a-certain-set-of-situations.Hence,-they-need-to-find-whether-the-insured-amount,-zone,-kilometer,-bonus,-or-make-affects-the-claim-rates-and-to-what-extent.\" data-toc-modified-id=\"Q.5-The-committee-wants-to-understand-what-affects-their-claim-rates-so-as-to-decide-the-right-premiums-for-a-certain-set-of-situations.Hence,-they-need-to-find-whether-the-insured-amount,-zone,-kilometer,-bonus,-or-make-affects-the-claim-rates-and-to-what-extent.-2.5\"><strong>Q.5 The committee wants to understand what affects their claim rates so as to decide the right premiums for a certain set of situations.Hence, they need to find whether the insured amount, zone, kilometer, bonus, or make affects the claim rates and to what extent.</strong></a></span><ul class=\"toc-item\"><li><span><a href=\"#Q.5-Conclusion\" data-toc-modified-id=\"Q.5-Conclusion-2.5.1\"><strong>Q.5 Conclusion</strong></a></span></li></ul></li></ul></li><li><span><a href=\"#Good-Luck.\" data-toc-modified-id=\"Good-Luck.-3\"><strong>Good Luck.</strong></a></span></li></ul></div>"
   ]
  },
  {
   "cell_type": "markdown",
   "metadata": {
    "slideshow": {
     "slide_type": "notes"
    },
    "solution": "hidden",
    "solution_first": true
   },
   "source": [
    "___\n",
    "## ** Problem statement** \n",
    "\n",
    "\n",
    "-(taken from kaggle in this link https://www.kaggle.com/vik2012kvs/insurance-factors-identification/code)\n",
    "___"
   ]
  },
  {
   "cell_type": "markdown",
   "metadata": {
    "slideshow": {
     "slide_type": "notes"
    }
   },
   "source": [
    "The data gives the details of third party motor insurance claims in Sweden for the\n",
    "year 1977. In Sweden, all motor insurance companies apply identical risk\n",
    "arguments to classify customers, and thus their portfolios and their claims\n",
    "statistics can be combined. The data were compiled by a Swedish Committee on\n",
    "the Analysis of Risk Premium in Motor Insurance. The Committee was asked to\n",
    "look into the problem of analyzing the real influence on the claims of the risk\n",
    "arguments and to compare this structure with the actual tariff.\n",
    "\n",
    "The insurance dataset holds 7 variables and the description of these variables are\n",
    "given below:\n",
    "\n",
    "Variable Description\n",
    "\n",
    "- Kilometers Kilometers travelled per year\n",
    "\n",
    "1: < 1000\n",
    "\n",
    "2: 1000-15000\n",
    "\n",
    "3: 15000-20000\n",
    "\n",
    "4: 20000-25000\n",
    "\n",
    "5: > 25000\n",
    "\n",
    "- Zone Geographical zone\n",
    "\n",
    "1: Stockholm, Göteborg, and Malmö with surroundings\n",
    "\n",
    "2: Other large cities with surroundings\n",
    "\n",
    "3: Smaller cities with surroundings in southern Sweden\n",
    "\n",
    "4: Rural areas in southern Sweden\n",
    "\n",
    "5: Smaller cities with surroundings in northern Sweden\n",
    "\n",
    "6: Rural areas in northern Sweden\n",
    "\n",
    "7: Gotland\n",
    "\n",
    "- Bonus : No claims bonus; equal to the number of years, plus one, since the last claim\n",
    "\n",
    "- Make : 1-8 represents eight different common car models. All other models are combined in class 9.\n",
    "\n",
    "- Insured : Number of insured in policy-years\n",
    "\n",
    "- Claims : Number of claims\n",
    "\n",
    "- Payment : Total value of payments in Skr (Swedish Krona)\n",
    "\n",
    "After understanding the data, you need to help the committee with the following:\n",
    " \n",
    " **1. The committee is interested to know each field of the data collected\n",
    "through descriptive analysis to gain basic insights into the data set and to\n",
    "prepare for further analysis.**\n",
    "\n",
    "** 2. The total value of payment by an insurance company is an important factor\n",
    "to be monitored. So the committee has decided to find whether this\n",
    "payment is related to number of claims and the number of insured policy\n",
    "years. They also want to visualize the results for better understanding.**\n",
    "\n",
    "** 3. The committee wants to figure out the reasons for insurance payment\n",
    "increase and decrease. So they have decided to find whether distance,\n",
    "location, bonus, make, and insured amount or claims are affecting the\n",
    "payment or all or some of these are affecting it.**\n",
    "\n",
    " **4. The insurance company is planning to establish a new branch office, so they\n",
    "are interested to find at what location, kilometer, and bonus level their\n",
    "insured amount, claims, and payment get increased. **\n",
    "\n",
    "** 5. The committee wants to understand what affects their claim rates so as to\n",
    "decide the right premiums for a certain set of situations. Hence, they need\n",
    "to find whether the insured amount, zone, kilometer, bonus, or make\n",
    "affects the claim rates and to what extent.**"
   ]
  },
  {
   "cell_type": "markdown",
   "metadata": {
    "slideshow": {
     "slide_type": "fragment"
    },
    "solution": "shown",
    "solution_first": true
   },
   "source": [
    "___\n",
    "\n",
    "### **1. Data loading**\n",
    "\n",
    "___"
   ]
  },
  {
   "cell_type": "code",
   "execution_count": 192,
   "metadata": {
    "collapsed": true,
    "slideshow": {
     "slide_type": "notes"
    },
    "solution": "hidden",
    "solution_first": true
   },
   "outputs": [],
   "source": [
    "import pandas as pd\n",
    "import pandas as pd\n",
    "import numpy as np\n",
    "import matplotlib.pyplot as plt\n",
    "import seaborn as sns\n",
    "%matplotlib inline"
   ]
  },
  {
   "cell_type": "code",
   "execution_count": 193,
   "metadata": {
    "collapsed": true,
    "slideshow": {
     "slide_type": "notes"
    }
   },
   "outputs": [],
   "source": [
    "ins_data = pd.read_csv(\"SwedishMotorInsurance.csv\")"
   ]
  },
  {
   "cell_type": "markdown",
   "metadata": {
    "slideshow": {
     "slide_type": "notes"
    }
   },
   "source": [
    "Let's look at some statistical information about our dataframe."
   ]
  },
  {
   "cell_type": "markdown",
   "metadata": {
    "slideshow": {
     "slide_type": "notes"
    }
   },
   "source": [
    "___\n",
    "### **2. Exploratory Analysis | Preprocessing**\n",
    "___"
   ]
  },
  {
   "cell_type": "code",
   "execution_count": 194,
   "metadata": {
    "slideshow": {
     "slide_type": "notes"
    }
   },
   "outputs": [
    {
     "name": "stdout",
     "output_type": "stream",
     "text": [
      "<class 'pandas.core.frame.DataFrame'>\n",
      "RangeIndex: 2182 entries, 0 to 2181\n",
      "Data columns (total 7 columns):\n",
      " #   Column      Non-Null Count  Dtype  \n",
      "---  ------      --------------  -----  \n",
      " 0   Kilometres  2182 non-null   int64  \n",
      " 1   Zone        2182 non-null   int64  \n",
      " 2   Bonus       2182 non-null   int64  \n",
      " 3   Make        2182 non-null   int64  \n",
      " 4   Insured     2182 non-null   float64\n",
      " 5   Claims      2182 non-null   int64  \n",
      " 6   Payment     2182 non-null   int64  \n",
      "dtypes: float64(1), int64(6)\n",
      "memory usage: 119.5 KB\n"
     ]
    }
   ],
   "source": [
    "ins_data.info()"
   ]
  },
  {
   "cell_type": "code",
   "execution_count": 195,
   "metadata": {
    "slideshow": {
     "slide_type": "notes"
    }
   },
   "outputs": [
    {
     "data": {
      "text/html": [
       "<div>\n",
       "<style scoped>\n",
       "    .dataframe tbody tr th:only-of-type {\n",
       "        vertical-align: middle;\n",
       "    }\n",
       "\n",
       "    .dataframe tbody tr th {\n",
       "        vertical-align: top;\n",
       "    }\n",
       "\n",
       "    .dataframe thead th {\n",
       "        text-align: right;\n",
       "    }\n",
       "</style>\n",
       "<table border=\"1\" class=\"dataframe\">\n",
       "  <thead>\n",
       "    <tr style=\"text-align: right;\">\n",
       "      <th></th>\n",
       "      <th>Kilometres</th>\n",
       "      <th>Zone</th>\n",
       "      <th>Bonus</th>\n",
       "      <th>Make</th>\n",
       "      <th>Insured</th>\n",
       "      <th>Claims</th>\n",
       "      <th>Payment</th>\n",
       "    </tr>\n",
       "  </thead>\n",
       "  <tbody>\n",
       "    <tr>\n",
       "      <th>0</th>\n",
       "      <td>1</td>\n",
       "      <td>1</td>\n",
       "      <td>1</td>\n",
       "      <td>1</td>\n",
       "      <td>455.13</td>\n",
       "      <td>108</td>\n",
       "      <td>392491</td>\n",
       "    </tr>\n",
       "    <tr>\n",
       "      <th>1</th>\n",
       "      <td>1</td>\n",
       "      <td>1</td>\n",
       "      <td>1</td>\n",
       "      <td>2</td>\n",
       "      <td>69.17</td>\n",
       "      <td>19</td>\n",
       "      <td>46221</td>\n",
       "    </tr>\n",
       "    <tr>\n",
       "      <th>2</th>\n",
       "      <td>1</td>\n",
       "      <td>1</td>\n",
       "      <td>1</td>\n",
       "      <td>3</td>\n",
       "      <td>72.88</td>\n",
       "      <td>13</td>\n",
       "      <td>15694</td>\n",
       "    </tr>\n",
       "    <tr>\n",
       "      <th>3</th>\n",
       "      <td>1</td>\n",
       "      <td>1</td>\n",
       "      <td>1</td>\n",
       "      <td>4</td>\n",
       "      <td>1292.39</td>\n",
       "      <td>124</td>\n",
       "      <td>422201</td>\n",
       "    </tr>\n",
       "    <tr>\n",
       "      <th>4</th>\n",
       "      <td>1</td>\n",
       "      <td>1</td>\n",
       "      <td>1</td>\n",
       "      <td>5</td>\n",
       "      <td>191.01</td>\n",
       "      <td>40</td>\n",
       "      <td>119373</td>\n",
       "    </tr>\n",
       "  </tbody>\n",
       "</table>\n",
       "</div>"
      ],
      "text/plain": [
       "   Kilometres  Zone  Bonus  Make  Insured  Claims  Payment\n",
       "0           1     1      1     1   455.13     108   392491\n",
       "1           1     1      1     2    69.17      19    46221\n",
       "2           1     1      1     3    72.88      13    15694\n",
       "3           1     1      1     4  1292.39     124   422201\n",
       "4           1     1      1     5   191.01      40   119373"
      ]
     },
     "execution_count": 195,
     "metadata": {},
     "output_type": "execute_result"
    }
   ],
   "source": [
    "ins_data.head()"
   ]
  },
  {
   "cell_type": "code",
   "execution_count": 196,
   "metadata": {
    "slideshow": {
     "slide_type": "notes"
    }
   },
   "outputs": [
    {
     "data": {
      "text/html": [
       "<div>\n",
       "<style scoped>\n",
       "    .dataframe tbody tr th:only-of-type {\n",
       "        vertical-align: middle;\n",
       "    }\n",
       "\n",
       "    .dataframe tbody tr th {\n",
       "        vertical-align: top;\n",
       "    }\n",
       "\n",
       "    .dataframe thead th {\n",
       "        text-align: right;\n",
       "    }\n",
       "</style>\n",
       "<table border=\"1\" class=\"dataframe\">\n",
       "  <thead>\n",
       "    <tr style=\"text-align: right;\">\n",
       "      <th></th>\n",
       "      <th>Kilometres</th>\n",
       "      <th>Zone</th>\n",
       "      <th>Bonus</th>\n",
       "      <th>Make</th>\n",
       "      <th>Insured</th>\n",
       "      <th>Claims</th>\n",
       "      <th>Payment</th>\n",
       "    </tr>\n",
       "  </thead>\n",
       "  <tbody>\n",
       "    <tr>\n",
       "      <th>count</th>\n",
       "      <td>2182.000000</td>\n",
       "      <td>2182.000000</td>\n",
       "      <td>2182.000000</td>\n",
       "      <td>2182.000000</td>\n",
       "      <td>2182.000000</td>\n",
       "      <td>2182.000000</td>\n",
       "      <td>2.182000e+03</td>\n",
       "    </tr>\n",
       "    <tr>\n",
       "      <th>mean</th>\n",
       "      <td>2.985793</td>\n",
       "      <td>3.970211</td>\n",
       "      <td>4.015124</td>\n",
       "      <td>4.991751</td>\n",
       "      <td>1092.195270</td>\n",
       "      <td>51.865720</td>\n",
       "      <td>2.570076e+05</td>\n",
       "    </tr>\n",
       "    <tr>\n",
       "      <th>std</th>\n",
       "      <td>1.410409</td>\n",
       "      <td>1.988858</td>\n",
       "      <td>2.000516</td>\n",
       "      <td>2.586943</td>\n",
       "      <td>5661.156245</td>\n",
       "      <td>201.710694</td>\n",
       "      <td>1.017283e+06</td>\n",
       "    </tr>\n",
       "    <tr>\n",
       "      <th>min</th>\n",
       "      <td>1.000000</td>\n",
       "      <td>1.000000</td>\n",
       "      <td>1.000000</td>\n",
       "      <td>1.000000</td>\n",
       "      <td>0.010000</td>\n",
       "      <td>0.000000</td>\n",
       "      <td>0.000000e+00</td>\n",
       "    </tr>\n",
       "    <tr>\n",
       "      <th>25%</th>\n",
       "      <td>2.000000</td>\n",
       "      <td>2.000000</td>\n",
       "      <td>2.000000</td>\n",
       "      <td>3.000000</td>\n",
       "      <td>21.610000</td>\n",
       "      <td>1.000000</td>\n",
       "      <td>2.988750e+03</td>\n",
       "    </tr>\n",
       "    <tr>\n",
       "      <th>50%</th>\n",
       "      <td>3.000000</td>\n",
       "      <td>4.000000</td>\n",
       "      <td>4.000000</td>\n",
       "      <td>5.000000</td>\n",
       "      <td>81.525000</td>\n",
       "      <td>5.000000</td>\n",
       "      <td>2.740350e+04</td>\n",
       "    </tr>\n",
       "    <tr>\n",
       "      <th>75%</th>\n",
       "      <td>4.000000</td>\n",
       "      <td>6.000000</td>\n",
       "      <td>6.000000</td>\n",
       "      <td>7.000000</td>\n",
       "      <td>389.782500</td>\n",
       "      <td>21.000000</td>\n",
       "      <td>1.119538e+05</td>\n",
       "    </tr>\n",
       "    <tr>\n",
       "      <th>max</th>\n",
       "      <td>5.000000</td>\n",
       "      <td>7.000000</td>\n",
       "      <td>7.000000</td>\n",
       "      <td>9.000000</td>\n",
       "      <td>127687.270000</td>\n",
       "      <td>3338.000000</td>\n",
       "      <td>1.824503e+07</td>\n",
       "    </tr>\n",
       "  </tbody>\n",
       "</table>\n",
       "</div>"
      ],
      "text/plain": [
       "        Kilometres         Zone        Bonus         Make        Insured  \\\n",
       "count  2182.000000  2182.000000  2182.000000  2182.000000    2182.000000   \n",
       "mean      2.985793     3.970211     4.015124     4.991751    1092.195270   \n",
       "std       1.410409     1.988858     2.000516     2.586943    5661.156245   \n",
       "min       1.000000     1.000000     1.000000     1.000000       0.010000   \n",
       "25%       2.000000     2.000000     2.000000     3.000000      21.610000   \n",
       "50%       3.000000     4.000000     4.000000     5.000000      81.525000   \n",
       "75%       4.000000     6.000000     6.000000     7.000000     389.782500   \n",
       "max       5.000000     7.000000     7.000000     9.000000  127687.270000   \n",
       "\n",
       "            Claims       Payment  \n",
       "count  2182.000000  2.182000e+03  \n",
       "mean     51.865720  2.570076e+05  \n",
       "std     201.710694  1.017283e+06  \n",
       "min       0.000000  0.000000e+00  \n",
       "25%       1.000000  2.988750e+03  \n",
       "50%       5.000000  2.740350e+04  \n",
       "75%      21.000000  1.119538e+05  \n",
       "max    3338.000000  1.824503e+07  "
      ]
     },
     "execution_count": 196,
     "metadata": {},
     "output_type": "execute_result"
    }
   ],
   "source": [
    "ins_data.describe()"
   ]
  },
  {
   "cell_type": "markdown",
   "metadata": {
    "slideshow": {
     "slide_type": "notes"
    }
   },
   "source": [
    "___\n",
    ">>> *** Q. Are there any missing values?***\n",
    "___"
   ]
  },
  {
   "cell_type": "code",
   "execution_count": 197,
   "metadata": {
    "slideshow": {
     "slide_type": "notes"
    }
   },
   "outputs": [
    {
     "data": {
      "text/html": [
       "<div>\n",
       "<style scoped>\n",
       "    .dataframe tbody tr th:only-of-type {\n",
       "        vertical-align: middle;\n",
       "    }\n",
       "\n",
       "    .dataframe tbody tr th {\n",
       "        vertical-align: top;\n",
       "    }\n",
       "\n",
       "    .dataframe thead th {\n",
       "        text-align: right;\n",
       "    }\n",
       "</style>\n",
       "<table border=\"1\" class=\"dataframe\">\n",
       "  <thead>\n",
       "    <tr style=\"text-align: right;\">\n",
       "      <th></th>\n",
       "      <th>Kilometres</th>\n",
       "      <th>Zone</th>\n",
       "      <th>Bonus</th>\n",
       "      <th>Make</th>\n",
       "      <th>Insured</th>\n",
       "      <th>Claims</th>\n",
       "      <th>Payment</th>\n",
       "    </tr>\n",
       "  </thead>\n",
       "  <tbody>\n",
       "  </tbody>\n",
       "</table>\n",
       "</div>"
      ],
      "text/plain": [
       "Empty DataFrame\n",
       "Columns: [Kilometres, Zone, Bonus, Make, Insured, Claims, Payment]\n",
       "Index: []"
      ]
     },
     "execution_count": 197,
     "metadata": {},
     "output_type": "execute_result"
    }
   ],
   "source": [
    "ins_data[ins_data.isnull().any(axis=1)]"
   ]
  },
  {
   "cell_type": "markdown",
   "metadata": {
    "slideshow": {
     "slide_type": "notes"
    }
   },
   "source": [
    "___\n",
    ">>>*** Ans: No missing values. ***\n",
    "___"
   ]
  },
  {
   "cell_type": "code",
   "execution_count": 198,
   "metadata": {},
   "outputs": [
    {
     "data": {
      "text/plain": [
       "Kilometres    0\n",
       "Zone          0\n",
       "Bonus         0\n",
       "Make          0\n",
       "Insured       0\n",
       "Claims        0\n",
       "Payment       0\n",
       "dtype: int64"
      ]
     },
     "execution_count": 198,
     "metadata": {},
     "output_type": "execute_result"
    }
   ],
   "source": [
    "ins_data.isnull().sum()"
   ]
  },
  {
   "cell_type": "markdown",
   "metadata": {
    "slideshow": {
     "slide_type": "notes"
    }
   },
   "source": [
    "***\n",
    ">>>**Task: The value of payment need to be observed. So Payment is dependent variable and other variables Kilometres, Zone, Bonus, Make, Insured and claims are independent variables.**\n",
    "***"
   ]
  },
  {
   "cell_type": "code",
   "execution_count": 199,
   "metadata": {
    "slideshow": {
     "slide_type": "slide"
    }
   },
   "outputs": [
    {
     "data": {
      "text/plain": [
       "Index(['Kilometres', 'Zone', 'Bonus', 'Make', 'Insured', 'Claims', 'Payment'], dtype='object')"
      ]
     },
     "execution_count": 199,
     "metadata": {},
     "output_type": "execute_result"
    }
   ],
   "source": [
    "ins_data.columns"
   ]
  },
  {
   "cell_type": "code",
   "execution_count": 200,
   "metadata": {
    "slideshow": {
     "slide_type": "slide"
    }
   },
   "outputs": [
    {
     "data": {
      "text/plain": [
       "(2182, 7)"
      ]
     },
     "execution_count": 200,
     "metadata": {},
     "output_type": "execute_result"
    }
   ],
   "source": [
    "ins_data.shape"
   ]
  },
  {
   "cell_type": "markdown",
   "metadata": {
    "slideshow": {
     "slide_type": "slide"
    }
   },
   "source": [
    "___\n",
    "\n",
    "**3. Linear Regression**\n",
    "___"
   ]
  },
  {
   "cell_type": "markdown",
   "metadata": {},
   "source": [
    "***\n",
    "## **Problems and my solution approach**\n",
    "***"
   ]
  },
  {
   "cell_type": "markdown",
   "metadata": {},
   "source": [
    "___\n",
    "### **Q.1 The committee is interested to know each field of the data collected through descriptiveanalysis to gain basic insights into the data set and to prepare for further analysis.**\n",
    "___"
   ]
  },
  {
   "cell_type": "code",
   "execution_count": 201,
   "metadata": {
    "collapsed": true
   },
   "outputs": [],
   "source": [
    "X = ins_data[['Insured', 'Claims']] #independent variables\n",
    "y = ins_data[['Payment']]"
   ]
  },
  {
   "cell_type": "code",
   "execution_count": 202,
   "metadata": {},
   "outputs": [
    {
     "name": "stderr",
     "output_type": "stream",
     "text": [
      "/usr/lib/python3.7/site-packages/statsmodels/tsa/tsatools.py:142: FutureWarning: In a future version of pandas all arguments of concat except for the argument 'objs' will be keyword-only\n",
      "  x = pd.concat(x[::order], 1)\n"
     ]
    }
   ],
   "source": [
    "import statsmodels.api as sm\n",
    "X = sm.add_constant(X)\n",
    "\n",
    "# create a fitted model in one line\n",
    "lm_1 = sm.OLS(y,X).fit()\n"
   ]
  },
  {
   "cell_type": "code",
   "execution_count": 203,
   "metadata": {},
   "outputs": [
    {
     "data": {
      "text/plain": [
       "const      3250.744741\n",
       "Insured      28.388061\n",
       "Claims     4294.774969\n",
       "dtype: float64"
      ]
     },
     "execution_count": 203,
     "metadata": {},
     "output_type": "execute_result"
    }
   ],
   "source": [
    "# print the coefficients\n",
    "lm_1.params"
   ]
  },
  {
   "cell_type": "code",
   "execution_count": 204,
   "metadata": {
    "slideshow": {
     "slide_type": "notes"
    }
   },
   "outputs": [
    {
     "name": "stdout",
     "output_type": "stream",
     "text": [
      "                            OLS Regression Results                            \n",
      "==============================================================================\n",
      "Dep. Variable:                Payment   R-squared:                       0.995\n",
      "Model:                            OLS   Adj. R-squared:                  0.995\n",
      "Method:                 Least Squares   F-statistic:                 2.211e+05\n",
      "Date:                Fri, 03 Dec 2021   Prob (F-statistic):               0.00\n",
      "Time:                        08:16:16   Log-Likelihood:                -27477.\n",
      "No. Observations:                2182   AIC:                         5.496e+04\n",
      "Df Residuals:                    2179   BIC:                         5.498e+04\n",
      "Df Model:                           2                                         \n",
      "Covariance Type:            nonrobust                                         \n",
      "==============================================================================\n",
      "                 coef    std err          t      P>|t|      [0.025      0.975]\n",
      "------------------------------------------------------------------------------\n",
      "const       3250.7447   1582.708      2.054      0.040     146.971    6354.519\n",
      "Insured       28.3881      0.651     43.580      0.000      27.111      29.665\n",
      "Claims      4294.7750     18.282    234.920      0.000    4258.923    4330.627\n",
      "==============================================================================\n",
      "Omnibus:                      883.032   Durbin-Watson:                   1.885\n",
      "Prob(Omnibus):                  0.000   Jarque-Bera (JB):           130433.487\n",
      "Skew:                           0.830   Prob(JB):                         0.00\n",
      "Kurtosis:                      40.840   Cond. No.                     5.98e+03\n",
      "==============================================================================\n",
      "\n",
      "Notes:\n",
      "[1] Standard Errors assume that the covariance matrix of the errors is correctly specified.\n",
      "[2] The condition number is large, 5.98e+03. This might indicate that there are\n",
      "strong multicollinearity or other numerical problems.\n"
     ]
    }
   ],
   "source": [
    "print(lm_1.summary())"
   ]
  },
  {
   "cell_type": "markdown",
   "metadata": {},
   "source": [
    "***\n",
    ">>>**Here p value is less than 0.05 then we can say that insured and Claims significant variables.To find how much they can affect.**\n",
    "\n",
    "Let's find correlation.\n",
    "***"
   ]
  },
  {
   "cell_type": "code",
   "execution_count": 205,
   "metadata": {},
   "outputs": [
    {
     "name": "stderr",
     "output_type": "stream",
     "text": [
      "/usr/lib/python3.7/site-packages/statsmodels/graphics/gofplots.py:993: UserWarning: marker is redundantly defined by the 'marker' keyword argument and the fmt string \"bo\" (-> marker='o'). The keyword argument will take precedence.\n",
      "  ax.plot(x, y, fmt, **plot_style)\n"
     ]
    },
    {
     "data": {
      "image/png": "[encoded data removed]",
      "text/plain": [
       "<Figure size 432x288 with 1 Axes>"
      ]
     },
     "execution_count": 205,
     "metadata": {},
     "output_type": "execute_result"
    },
    {
     "data": {
      "image/png": "[encoded data removed]",
      "text/plain": [
       "<Figure size 432x288 with 1 Axes>"
      ]
     },
     "metadata": {
      "needs_background": "light"
     },
     "output_type": "display_data"
    }
   ],
   "source": [
    "error = lm_1.resid\n",
    "sm.qqplot(error, fit = 'True',line = '45')"
   ]
  },
  {
   "cell_type": "markdown",
   "metadata": {},
   "source": [
    "***\n",
    ">>>***std err represents the average distance that the observed values fall from the regression line. Conveniently, it tells you how wrong the regression model is on average using the units of the response variable. Smaller values are better because it indicates that the observations are closer to the fitted line***\n",
    "***"
   ]
  },
  {
   "cell_type": "markdown",
   "metadata": {},
   "source": [
    "***\n",
    "> **Upto this point I am not sure how good my model is. Therefore I will divide my model in train, test\n",
    "set and check for it's accuracy.**\n",
    "***"
   ]
  },
  {
   "cell_type": "markdown",
   "metadata": {},
   "source": [
    ">###### **1.1 Divide data into Train Test**"
   ]
  },
  {
   "cell_type": "code",
   "execution_count": 206,
   "metadata": {
    "collapsed": true
   },
   "outputs": [],
   "source": [
    "from sklearn.model_selection import train_test_split\n",
    "X_train, X_test, y_train, y_test = train_test_split(X, y, train_size=0.8, random_state = 100 )"
   ]
  },
  {
   "cell_type": "code",
   "execution_count": 207,
   "metadata": {},
   "outputs": [
    {
     "name": "stdout",
     "output_type": "stream",
     "text": [
      "(1745, 3)\n",
      "(437, 3)\n",
      "(1745, 1)\n",
      "(437, 1)\n"
     ]
    }
   ],
   "source": [
    "print(X_train.shape)\n",
    "print(X_test.shape)\n",
    "print(y_train.shape)\n",
    "print(y_test.shape)"
   ]
  },
  {
   "cell_type": "code",
   "execution_count": 208,
   "metadata": {},
   "outputs": [
    {
     "name": "stderr",
     "output_type": "stream",
     "text": [
      "/usr/lib/python3.7/site-packages/statsmodels/tsa/tsatools.py:142: FutureWarning: In a future version of pandas all arguments of concat except for the argument 'objs' will be keyword-only\n",
      "  x = pd.concat(x[::order], 1)\n"
     ]
    }
   ],
   "source": [
    "import statsmodels.api as sm\n",
    "X_train = sm.add_constant(X_train)\n",
    "linear_model = sm.OLS(y_train,X_train).fit()"
   ]
  },
  {
   "cell_type": "code",
   "execution_count": 209,
   "metadata": {},
   "outputs": [
    {
     "data": {
      "text/plain": [
       "const      2809.435891\n",
       "Insured      28.377362\n",
       "Claims     4283.010410\n",
       "dtype: float64"
      ]
     },
     "execution_count": 209,
     "metadata": {},
     "output_type": "execute_result"
    }
   ],
   "source": [
    "# print the coefficients\n",
    "linear_model.params"
   ]
  },
  {
   "cell_type": "markdown",
   "metadata": {},
   "source": [
    "> ** 1.2 Prediction using model**"
   ]
  },
  {
   "cell_type": "code",
   "execution_count": 210,
   "metadata": {
    "collapsed": true
   },
   "outputs": [],
   "source": [
    "y_pred = linear_model.predict(X_test)"
   ]
  },
  {
   "cell_type": "code",
   "execution_count": 211,
   "metadata": {},
   "outputs": [
    {
     "name": "stdout",
     "output_type": "stream",
     "text": [
      "                            OLS Regression Results                            \n",
      "==============================================================================\n",
      "Dep. Variable:                Payment   R-squared:                       0.996\n",
      "Model:                            OLS   Adj. R-squared:                  0.996\n",
      "Method:                 Least Squares   F-statistic:                 1.951e+05\n",
      "Date:                Fri, 03 Dec 2021   Prob (F-statistic):               0.00\n",
      "Time:                        08:16:17   Log-Likelihood:                -22003.\n",
      "No. Observations:                1745   AIC:                         4.401e+04\n",
      "Df Residuals:                    1742   BIC:                         4.403e+04\n",
      "Df Model:                           2                                         \n",
      "Covariance Type:            nonrobust                                         \n",
      "==============================================================================\n",
      "                 coef    std err          t      P>|t|      [0.025      0.975]\n",
      "------------------------------------------------------------------------------\n",
      "const       2809.4359   1798.103      1.562      0.118    -717.232    6336.103\n",
      "Insured       28.3774      0.705     40.232      0.000      26.994      29.761\n",
      "Claims      4283.0104     20.266    211.336      0.000    4243.262    4322.759\n",
      "==============================================================================\n",
      "Omnibus:                      795.043   Durbin-Watson:                   2.008\n",
      "Prob(Omnibus):                  0.000   Jarque-Bera (JB):           122804.292\n",
      "Skew:                           1.056   Prob(JB):                         0.00\n",
      "Kurtosis:                      44.043   Cond. No.                     6.52e+03\n",
      "==============================================================================\n",
      "\n",
      "Notes:\n",
      "[1] Standard Errors assume that the covariance matrix of the errors is correctly specified.\n",
      "[2] The condition number is large, 6.52e+03. This might indicate that there are\n",
      "strong multicollinearity or other numerical problems.\n"
     ]
    }
   ],
   "source": [
    "print(linear_model.summary())"
   ]
  },
  {
   "cell_type": "code",
   "execution_count": 212,
   "metadata": {
    "collapsed": true
   },
   "outputs": [],
   "source": [
    "from sklearn.metrics import mean_squared_error, r2_score\n",
    "mse = mean_squared_error(y_test, y_pred)\n",
    "r_squared = r2_score(y_test, y_pred)"
   ]
  },
  {
   "cell_type": "code",
   "execution_count": 213,
   "metadata": {
    "collapsed": true
   },
   "outputs": [],
   "source": [
    "from math import sqrt\n",
    "rmse = sqrt(mse)"
   ]
  },
  {
   "cell_type": "code",
   "execution_count": 214,
   "metadata": {},
   "outputs": [
    {
     "name": "stdout",
     "output_type": "stream",
     "text": [
      "Mean_Squared_Error : 4409016395.426444\n",
      "Root_Mean_Squared_Error : 66400.42466299779\n",
      "r_square_value : 0.9901957705244868\n"
     ]
    }
   ],
   "source": [
    "print('Mean_Squared_Error :' ,mse)\n",
    "print('Root_Mean_Squared_Error :' ,rmse)\n",
    "print('r_square_value :',r_squared)"
   ]
  },
  {
   "cell_type": "markdown",
   "metadata": {},
   "source": [
    "***\n",
    ">>>#### **Q.1 Conclusion**\n",
    "- **P value for both Insured and Claims variable is smaller than 0.05 so these variable significantly affect the payment.** \n",
    "- **Coefficient of Insured is positive 28.3774 means that 1 unit increase of Insured policy year increased the  Payment by dollar 28.37 on average.**\n",
    "- **Coefficient of Claims is positive 4283.0104, means that 1 unit increase of Claim increased the Payment by dollar 4283.01 on average.**\n",
    "- **This model has a higher R-squared (0.9901), which means that this model provides a better fit to the data.**\n",
    "***"
   ]
  },
  {
   "cell_type": "markdown",
   "metadata": {},
   "source": [
    "___\n",
    "**4. Check correlation with Insured with payment**\n",
    "___"
   ]
  },
  {
   "cell_type": "markdown",
   "metadata": {},
   "source": [
    "___\n",
    "### **Q.2 The total value of payment by an insurance company is an important factor to be monitored.So the committee has decided to find whether payment is related to number of insured policy years.They also want to visualize the results for better understanding**\n",
    "___"
   ]
  },
  {
   "cell_type": "markdown",
   "metadata": {},
   "source": [
    "***\n",
    ">>> ** Spearman's correlation Coefficient**\n",
    "***"
   ]
  },
  {
   "cell_type": "code",
   "execution_count": 251,
   "metadata": {},
   "outputs": [
    {
     "data": {
      "text/plain": [
       "0.9030321473633566"
      ]
     },
     "execution_count": 251,
     "metadata": {},
     "output_type": "execute_result"
    }
   ],
   "source": [
    "ins_data['Insured'].corr(ins_data['Payment'], method='spearman') "
   ]
  },
  {
   "cell_type": "code",
   "execution_count": 240,
   "metadata": {},
   "outputs": [
    {
     "data": {
      "text/plain": [
       "0.9624432754165474"
      ]
     },
     "execution_count": 240,
     "metadata": {},
     "output_type": "execute_result"
    }
   ],
   "source": [
    "ins_data['Claims'].corr(ins_data['Payment'], method='spearman') "
   ]
  },
  {
   "cell_type": "code",
   "execution_count": 241,
   "metadata": {},
   "outputs": [
    {
     "data": {
      "text/html": [
       "<style type=\"text/css\">\n",
       "#T_b7c32_row0_col0, #T_b7c32_row1_col1, #T_b7c32_row2_col2, #T_b7c32_row3_col3, #T_b7c32_row4_col4, #T_b7c32_row5_col5, #T_b7c32_row6_col6 {\n",
       "  background-color: #b40426;\n",
       "  color: #f1f1f1;\n",
       "}\n",
       "#T_b7c32_row0_col1 {\n",
       "  background-color: #93b5fe;\n",
       "  color: #000000;\n",
       "}\n",
       "#T_b7c32_row0_col2, #T_b7c32_row1_col4, #T_b7c32_row2_col3 {\n",
       "  background-color: #3c4ec2;\n",
       "  color: #f1f1f1;\n",
       "}\n",
       "#T_b7c32_row0_col3, #T_b7c32_row0_col4, #T_b7c32_row1_col3, #T_b7c32_row1_col5, #T_b7c32_row1_col6, #T_b7c32_row3_col2, #T_b7c32_row4_col0, #T_b7c32_row5_col1 {\n",
       "  background-color: #3b4cc0;\n",
       "  color: #f1f1f1;\n",
       "}\n",
       "#T_b7c32_row0_col5, #T_b7c32_row0_col6 {\n",
       "  background-color: #5572df;\n",
       "  color: #f1f1f1;\n",
       "}\n",
       "#T_b7c32_row1_col0 {\n",
       "  background-color: #88abfd;\n",
       "  color: #000000;\n",
       "}\n",
       "#T_b7c32_row1_col2 {\n",
       "  background-color: #3d50c3;\n",
       "  color: #f1f1f1;\n",
       "}\n",
       "#T_b7c32_row2_col0 {\n",
       "  background-color: #8db0fe;\n",
       "  color: #000000;\n",
       "}\n",
       "#T_b7c32_row2_col1 {\n",
       "  background-color: #9abbff;\n",
       "  color: #000000;\n",
       "}\n",
       "#T_b7c32_row2_col4 {\n",
       "  background-color: #e0dbd8;\n",
       "  color: #000000;\n",
       "}\n",
       "#T_b7c32_row2_col5 {\n",
       "  background-color: #c6d6f1;\n",
       "  color: #000000;\n",
       "}\n",
       "#T_b7c32_row2_col6 {\n",
       "  background-color: #c5d6f2;\n",
       "  color: #000000;\n",
       "}\n",
       "#T_b7c32_row3_col0 {\n",
       "  background-color: #8badfd;\n",
       "  color: #000000;\n",
       "}\n",
       "#T_b7c32_row3_col1 {\n",
       "  background-color: #96b7ff;\n",
       "  color: #000000;\n",
       "}\n",
       "#T_b7c32_row3_col4 {\n",
       "  background-color: #a9c6fd;\n",
       "  color: #000000;\n",
       "}\n",
       "#T_b7c32_row3_col5 {\n",
       "  background-color: #b3cdfb;\n",
       "  color: #000000;\n",
       "}\n",
       "#T_b7c32_row3_col6 {\n",
       "  background-color: #b1cbfc;\n",
       "  color: #000000;\n",
       "}\n",
       "#T_b7c32_row4_col1, #T_b7c32_row5_col0 {\n",
       "  background-color: #4961d2;\n",
       "  color: #f1f1f1;\n",
       "}\n",
       "#T_b7c32_row4_col2 {\n",
       "  background-color: #afcafc;\n",
       "  color: #000000;\n",
       "}\n",
       "#T_b7c32_row4_col3, #T_b7c32_row5_col3 {\n",
       "  background-color: #5e7de7;\n",
       "  color: #f1f1f1;\n",
       "}\n",
       "#T_b7c32_row4_col5, #T_b7c32_row5_col4 {\n",
       "  background-color: #c53334;\n",
       "  color: #f1f1f1;\n",
       "}\n",
       "#T_b7c32_row4_col6, #T_b7c32_row6_col4 {\n",
       "  background-color: #cd423b;\n",
       "  color: #f1f1f1;\n",
       "}\n",
       "#T_b7c32_row5_col2 {\n",
       "  background-color: #7a9df8;\n",
       "  color: #f1f1f1;\n",
       "}\n",
       "#T_b7c32_row5_col6 {\n",
       "  background-color: #be242e;\n",
       "  color: #f1f1f1;\n",
       "}\n",
       "#T_b7c32_row6_col0 {\n",
       "  background-color: #4e68d8;\n",
       "  color: #f1f1f1;\n",
       "}\n",
       "#T_b7c32_row6_col1 {\n",
       "  background-color: #3f53c6;\n",
       "  color: #f1f1f1;\n",
       "}\n",
       "#T_b7c32_row6_col2 {\n",
       "  background-color: #7b9ff9;\n",
       "  color: #f1f1f1;\n",
       "}\n",
       "#T_b7c32_row6_col3 {\n",
       "  background-color: #6180e9;\n",
       "  color: #f1f1f1;\n",
       "}\n",
       "#T_b7c32_row6_col5 {\n",
       "  background-color: #bd1f2d;\n",
       "  color: #f1f1f1;\n",
       "}\n",
       "</style>\n",
       "<table id=\"T_b7c32_\">\n",
       "  <thead>\n",
       "    <tr>\n",
       "      <th class=\"blank level0\" >&nbsp;</th>\n",
       "      <th class=\"col_heading level0 col0\" >Kilometres</th>\n",
       "      <th class=\"col_heading level0 col1\" >Zone</th>\n",
       "      <th class=\"col_heading level0 col2\" >Bonus</th>\n",
       "      <th class=\"col_heading level0 col3\" >Make</th>\n",
       "      <th class=\"col_heading level0 col4\" >Insured</th>\n",
       "      <th class=\"col_heading level0 col5\" >Claims</th>\n",
       "      <th class=\"col_heading level0 col6\" >Payment</th>\n",
       "    </tr>\n",
       "  </thead>\n",
       "  <tbody>\n",
       "    <tr>\n",
       "      <th id=\"T_b7c32_level0_row0\" class=\"row_heading level0 row0\" >Kilometres</th>\n",
       "      <td id=\"T_b7c32_row0_col0\" class=\"data row0 col0\" >1.000000</td>\n",
       "      <td id=\"T_b7c32_row0_col1\" class=\"data row0 col1\" >-0.013928</td>\n",
       "      <td id=\"T_b7c32_row0_col2\" class=\"data row0 col2\" >0.007206</td>\n",
       "      <td id=\"T_b7c32_row0_col3\" class=\"data row0 col3\" >-0.002677</td>\n",
       "      <td id=\"T_b7c32_row0_col4\" class=\"data row0 col4\" >-0.329021</td>\n",
       "      <td id=\"T_b7c32_row0_col5\" class=\"data row0 col5\" >-0.264260</td>\n",
       "      <td id=\"T_b7c32_row0_col6\" class=\"data row0 col6\" >-0.242175</td>\n",
       "    </tr>\n",
       "    <tr>\n",
       "      <th id=\"T_b7c32_level0_row1\" class=\"row_heading level0 row1\" >Zone</th>\n",
       "      <td id=\"T_b7c32_row1_col0\" class=\"data row1 col0\" >-0.013928</td>\n",
       "      <td id=\"T_b7c32_row1_col1\" class=\"data row1 col1\" >1.000000</td>\n",
       "      <td id=\"T_b7c32_row1_col2\" class=\"data row1 col2\" >0.011674</td>\n",
       "      <td id=\"T_b7c32_row1_col3\" class=\"data row1 col3\" >-0.005189</td>\n",
       "      <td id=\"T_b7c32_row1_col4\" class=\"data row1 col4\" >-0.320061</td>\n",
       "      <td id=\"T_b7c32_row1_col5\" class=\"data row1 col5\" >-0.386822</td>\n",
       "      <td id=\"T_b7c32_row1_col6\" class=\"data row1 col6\" >-0.363449</td>\n",
       "    </tr>\n",
       "    <tr>\n",
       "      <th id=\"T_b7c32_level0_row2\" class=\"row_heading level0 row2\" >Bonus</th>\n",
       "      <td id=\"T_b7c32_row2_col0\" class=\"data row2 col0\" >0.007206</td>\n",
       "      <td id=\"T_b7c32_row2_col1\" class=\"data row2 col1\" >0.011674</td>\n",
       "      <td id=\"T_b7c32_row2_col2\" class=\"data row2 col2\" >1.000000</td>\n",
       "      <td id=\"T_b7c32_row2_col3\" class=\"data row2 col3\" >0.002157</td>\n",
       "      <td id=\"T_b7c32_row2_col4\" class=\"data row2 col4\" >0.351141</td>\n",
       "      <td id=\"T_b7c32_row2_col5\" class=\"data row2 col5\" >0.197773</td>\n",
       "      <td id=\"T_b7c32_row2_col6\" class=\"data row2 col6\" >0.202058</td>\n",
       "    </tr>\n",
       "    <tr>\n",
       "      <th id=\"T_b7c32_level0_row3\" class=\"row_heading level0 row3\" >Make</th>\n",
       "      <td id=\"T_b7c32_row3_col0\" class=\"data row3 col0\" >-0.002677</td>\n",
       "      <td id=\"T_b7c32_row3_col1\" class=\"data row3 col1\" >-0.005189</td>\n",
       "      <td id=\"T_b7c32_row3_col2\" class=\"data row3 col2\" >0.002157</td>\n",
       "      <td id=\"T_b7c32_row3_col3\" class=\"data row3 col3\" >1.000000</td>\n",
       "      <td id=\"T_b7c32_row3_col4\" class=\"data row3 col4\" >0.111041</td>\n",
       "      <td id=\"T_b7c32_row3_col5\" class=\"data row3 col5\" >0.112388</td>\n",
       "      <td id=\"T_b7c32_row3_col6\" class=\"data row3 col6\" >0.118209</td>\n",
       "    </tr>\n",
       "    <tr>\n",
       "      <th id=\"T_b7c32_level0_row4\" class=\"row_heading level0 row4\" >Insured</th>\n",
       "      <td id=\"T_b7c32_row4_col0\" class=\"data row4 col0\" >-0.329021</td>\n",
       "      <td id=\"T_b7c32_row4_col1\" class=\"data row4 col1\" >-0.320061</td>\n",
       "      <td id=\"T_b7c32_row4_col2\" class=\"data row4 col2\" >0.351141</td>\n",
       "      <td id=\"T_b7c32_row4_col3\" class=\"data row4 col3\" >0.111041</td>\n",
       "      <td id=\"T_b7c32_row4_col4\" class=\"data row4 col4\" >1.000000</td>\n",
       "      <td id=\"T_b7c32_row4_col5\" class=\"data row4 col5\" >0.933337</td>\n",
       "      <td id=\"T_b7c32_row4_col6\" class=\"data row4 col6\" >0.903032</td>\n",
       "    </tr>\n",
       "    <tr>\n",
       "      <th id=\"T_b7c32_level0_row5\" class=\"row_heading level0 row5\" >Claims</th>\n",
       "      <td id=\"T_b7c32_row5_col0\" class=\"data row5 col0\" >-0.264260</td>\n",
       "      <td id=\"T_b7c32_row5_col1\" class=\"data row5 col1\" >-0.386822</td>\n",
       "      <td id=\"T_b7c32_row5_col2\" class=\"data row5 col2\" >0.197773</td>\n",
       "      <td id=\"T_b7c32_row5_col3\" class=\"data row5 col3\" >0.112388</td>\n",
       "      <td id=\"T_b7c32_row5_col4\" class=\"data row5 col4\" >0.933337</td>\n",
       "      <td id=\"T_b7c32_row5_col5\" class=\"data row5 col5\" >1.000000</td>\n",
       "      <td id=\"T_b7c32_row5_col6\" class=\"data row5 col6\" >0.962443</td>\n",
       "    </tr>\n",
       "    <tr>\n",
       "      <th id=\"T_b7c32_level0_row6\" class=\"row_heading level0 row6\" >Payment</th>\n",
       "      <td id=\"T_b7c32_row6_col0\" class=\"data row6 col0\" >-0.242175</td>\n",
       "      <td id=\"T_b7c32_row6_col1\" class=\"data row6 col1\" >-0.363449</td>\n",
       "      <td id=\"T_b7c32_row6_col2\" class=\"data row6 col2\" >0.202058</td>\n",
       "      <td id=\"T_b7c32_row6_col3\" class=\"data row6 col3\" >0.118209</td>\n",
       "      <td id=\"T_b7c32_row6_col4\" class=\"data row6 col4\" >0.903032</td>\n",
       "      <td id=\"T_b7c32_row6_col5\" class=\"data row6 col5\" >0.962443</td>\n",
       "      <td id=\"T_b7c32_row6_col6\" class=\"data row6 col6\" >1.000000</td>\n",
       "    </tr>\n",
       "  </tbody>\n",
       "</table>\n"
      ],
      "text/plain": [
       "<pandas.io.formats.style.Styler at 0x7f677e01f750>"
      ]
     },
     "execution_count": 241,
     "metadata": {},
     "output_type": "execute_result"
    }
   ],
   "source": [
    "corr = ins_data.corr(method='spearman')\n",
    "corr.style.background_gradient(cmap='coolwarm')"
   ]
  },
  {
   "cell_type": "code",
   "execution_count": 242,
   "metadata": {},
   "outputs": [
    {
     "data": {
      "text/plain": [
       "<AxesSubplot:xlabel='Insured', ylabel='Payment'>"
      ]
     },
     "execution_count": 242,
     "metadata": {},
     "output_type": "execute_result"
    },
    {
     "data": {
      "image/png": "[encoded data removed]",
      "text/plain": [
       "<Figure size 432x288 with 1 Axes>"
      ]
     },
     "metadata": {
      "needs_background": "light"
     },
     "output_type": "display_data"
    }
   ],
   "source": [
    "sns.scatterplot(data=ins_data, x=\"Insured\", y=\"Payment\", palette=\"deep\")"
   ]
  },
  {
   "cell_type": "code",
   "execution_count": 243,
   "metadata": {},
   "outputs": [
    {
     "data": {
      "text/plain": [
       "<AxesSubplot:xlabel='Claims', ylabel='Payment'>"
      ]
     },
     "execution_count": 243,
     "metadata": {},
     "output_type": "execute_result"
    },
    {
     "data": {
      "image/png": "[encoded data removed]",
      "text/plain": [
       "<Figure size 432x288 with 1 Axes>"
      ]
     },
     "metadata": {
      "needs_background": "light"
     },
     "output_type": "display_data"
    }
   ],
   "source": [
    "sns.scatterplot(data=ins_data, x=\"Claims\", y=\"Payment\",palette=\"deep\")"
   ]
  },
  {
   "cell_type": "markdown",
   "metadata": {},
   "source": [
    "***\n",
    ">>>#### **Q.2 Conclusion**\n",
    "- **The scatter diagram shows insured number of years increased the payment. Similarly more claims also increased the payment.**\n",
    "- **From the scatter diagram the cross section of Insured row and payment columns (5th row and 7th column) is mostly dark red with value 0.903032. So Insured years is highly correlated with payment.**\n",
    "- **Similarly, From the scatter diagram the cross section of Claims row and payment columns (6th row and 7th column) is mostly dark red with value 0.962443. So Claims is highly correlated with payment. This value is even more than Insured years.**\n",
    "***"
   ]
  },
  {
   "cell_type": "markdown",
   "metadata": {},
   "source": [
    "___\n",
    "\n",
    "### **Q.3 The committee wants to figure out the reasons for insurance payment increase and decrease.So they have decided to find whether distance,location, bonus, make, insured amount or claims claims are affecting the payment or all or some of these are affecting it.**\n",
    "___\n"
   ]
  },
  {
   "cell_type": "markdown",
   "metadata": {},
   "source": [
    "___\n",
    "**5. Multiple linear regression**\n",
    "___"
   ]
  },
  {
   "cell_type": "markdown",
   "metadata": {},
   "source": [
    "***\n",
    "** Dependent variable = payment**\n",
    "\n",
    "**Independent variables = distance, location, bonus, make, insured amount, claims**\n",
    "***"
   ]
  },
  {
   "cell_type": "markdown",
   "metadata": {},
   "source": [
    ">**sk learn approach for multiple linear regression**"
   ]
  },
  {
   "cell_type": "code",
   "execution_count": 249,
   "metadata": {
    "collapsed": true
   },
   "outputs": [],
   "source": [
    "X1 = ins_data[[ 'Kilometres', 'Zone', 'Bonus', 'Make','Insured', 'Claims']] #independent variables\n",
    "y1 = ins_data[['Payment']]\n",
    "\n",
    "from sklearn.model_selection import train_test_split\n",
    "X1_train, X1_test, y1_train, y1_test = train_test_split(X1, y1, train_size=0.8, random_state = 100 )\n",
    "\n",
    "from sklearn.linear_model import LinearRegression\n",
    "lm = LinearRegression().fit(X1_train,y1_train)\n",
    "y2_pred = lm.predict(X1_test)"
   ]
  },
  {
   "cell_type": "code",
   "execution_count": 250,
   "metadata": {},
   "outputs": [
    {
     "name": "stdout",
     "output_type": "stream",
     "text": [
      "Mean_Squared_Error : 4378650289.510801\n",
      "Root_Mean_Squared_Error : 66171.37061834824\n",
      "r_square_value : 0.9902632949435349\n"
     ]
    }
   ],
   "source": [
    "from sklearn.metrics import mean_squared_error, r2_score\n",
    "mse2 = mean_squared_error(y1_test, y2_pred)\n",
    "r_squared2 = r2_score(y1_test, y2_pred)\n",
    "\n",
    "from math import sqrt\n",
    "rmse2 = sqrt(mse2)\n",
    "\n",
    "print('Mean_Squared_Error :' ,mse2)\n",
    "print('Root_Mean_Squared_Error :' ,rmse2)\n",
    "print('r_square_value :',r_squared2)"
   ]
  },
  {
   "cell_type": "markdown",
   "metadata": {},
   "source": [
    ">>>- **Bonus and Make variable has P value greater than 0.05. So they are insignificant variables and others are significant variables. So distance,location, and insured amount and claims are affecting the payment.**\n",
    "- **R_square value in multiple regression large which is good.It may be due to multiple variables inclusion. Let's check model again without including those Bonus and Make and check model again**"
   ]
  },
  {
   "cell_type": "code",
   "execution_count": 246,
   "metadata": {},
   "outputs": [
    {
     "name": "stdout",
     "output_type": "stream",
     "text": [
      "                            OLS Regression Results                            \n",
      "==============================================================================\n",
      "Dep. Variable:                Payment   R-squared:                       0.996\n",
      "Model:                            OLS   Adj. R-squared:                  0.996\n",
      "Method:                 Least Squares   F-statistic:                 9.872e+04\n",
      "Date:                Fri, 03 Dec 2021   Prob (F-statistic):               0.00\n",
      "Time:                        08:23:13   Log-Likelihood:                -21992.\n",
      "No. Observations:                1745   AIC:                         4.399e+04\n",
      "Df Residuals:                    1740   BIC:                         4.402e+04\n",
      "Df Model:                           4                                         \n",
      "Covariance Type:            nonrobust                                         \n",
      "==============================================================================\n",
      "                 coef    std err          t      P>|t|      [0.025      0.975]\n",
      "------------------------------------------------------------------------------\n",
      "const       -2.16e+04   5510.741     -3.920      0.000   -3.24e+04   -1.08e+04\n",
      "Kilometres  5141.8925   1231.107      4.177      0.000    2727.287    7556.498\n",
      "Zone        2206.3766    881.829      2.502      0.012     476.821    3935.932\n",
      "Insured       28.1413      0.706     39.854      0.000      26.756      29.526\n",
      "Claims      4295.7856     20.424    210.327      0.000    4255.727    4335.844\n",
      "==============================================================================\n",
      "Omnibus:                      795.470   Durbin-Watson:                   2.016\n",
      "Prob(Omnibus):                  0.000   Jarque-Bera (JB):           121610.799\n",
      "Skew:                           1.060   Prob(JB):                         0.00\n",
      "Kurtosis:                      43.842   Cond. No.                     2.04e+04\n",
      "==============================================================================\n",
      "\n",
      "Notes:\n",
      "[1] Standard Errors assume that the covariance matrix of the errors is correctly specified.\n",
      "[2] The condition number is large, 2.04e+04. This might indicate that there are\n",
      "strong multicollinearity or other numerical problems.\n"
     ]
    },
    {
     "name": "stderr",
     "output_type": "stream",
     "text": [
      "/usr/lib/python3.7/site-packages/statsmodels/tsa/tsatools.py:142: FutureWarning: In a future version of pandas all arguments of concat except for the argument 'objs' will be keyword-only\n",
      "  x = pd.concat(x[::order], 1)\n"
     ]
    }
   ],
   "source": [
    "X2 = ins_data[[ 'Kilometres', 'Zone','Insured', 'Claims']] #independent variables\n",
    "y2 = ins_data[['Payment']]\n",
    "\n",
    "import statsmodels.api as sm\n",
    "X2 = sm.add_constant(X2)\n",
    "\n",
    "from sklearn.model_selection import train_test_split\n",
    "X2_train, X2_test, y2_train, y2_test = train_test_split(X2, y2, train_size=0.8, random_state = 100 )\n",
    "multiple_model2 = sm.OLS(y2_train,X2_train).fit()\n",
    "\n",
    "#predicting model\n",
    "y2_pred = multiple_model2.predict(X2_test)\n",
    "print(multiple_model2.summary())"
   ]
  },
  {
   "cell_type": "code",
   "execution_count": 256,
   "metadata": {},
   "outputs": [
    {
     "name": "stdout",
     "output_type": "stream",
     "text": [
      "[-21604.10361334]\n",
      "[[   0.         5141.89252175 2206.37662899   28.14125358 4295.78558307]]\n",
      "0.9956128485580953\n"
     ]
    }
   ],
   "source": [
    "#sklearn approach for the same problem\n",
    "from sklearn.linear_model import LinearRegression\n",
    "lm = LinearRegression().fit(X2_train,y2_train)\n",
    "print(lm.intercept_)\n",
    "print(lm.coef_)\n",
    "print(lm.score(X2_train,y2_train))"
   ]
  },
  {
   "cell_type": "markdown",
   "metadata": {},
   "source": [
    ">>>**we got same intecepts, coefficients and R-square square from sklearn approach as OLS method.**"
   ]
  },
  {
   "cell_type": "code",
   "execution_count": 260,
   "metadata": {},
   "outputs": [
    {
     "name": "stdout",
     "output_type": "stream",
     "text": [
      "Mean_Squared_Error : 4378650289.510801\n",
      "Root_Mean_Squared_Error : 66171.37061834824\n",
      "r_square_value : 0.9902632949435349\n"
     ]
    }
   ],
   "source": [
    "from sklearn.metrics import mean_squared_error, r2_score\n",
    "mse2 = mean_squared_error(y2_test, y2_pred)\n",
    "r_squared2 = r2_score(y2_test, y2_pred)\n",
    "\n",
    "from math import sqrt\n",
    "rmse2 = sqrt(mse2)\n",
    "\n",
    "print('Mean_Squared_Error :' ,mse2)\n",
    "print('Root_Mean_Squared_Error :' ,rmse2)\n",
    "print('r_square_value :',r_squared2)"
   ]
  },
  {
   "cell_type": "markdown",
   "metadata": {},
   "source": [
    "***\n",
    ">>> #### **Q.3 Conclusion**\n",
    "- **R_square value in multiple regression large which is good and all values are significant. There are only 4 independent variables, so large value of R_square is not of many variables. This implies that those Kilometres, Zone, Insured, Claims are significant variables.**\n",
    "***"
   ]
  },
  {
   "cell_type": "code",
   "execution_count": 261,
   "metadata": {},
   "outputs": [
    {
     "data": {
      "text/plain": [
       "<AxesSubplot:xlabel='Claims', ylabel='Payment'>"
      ]
     },
     "execution_count": 261,
     "metadata": {},
     "output_type": "execute_result"
    },
    {
     "data": {
      "image/png": "[encoded data removed]",
      "text/plain": [
       "<Figure size 1152x576 with 6 Axes>"
      ]
     },
     "metadata": {
      "needs_background": "light"
     },
     "output_type": "display_data"
    }
   ],
   "source": [
    "# visualize the relationship between the features and the response using scatterplots\n",
    "fig, axs = plt.subplots(1, 6, sharey=True)\n",
    "ins_data.plot(kind='scatter', x='Kilometres', y='Payment', ax=axs[0], figsize=(16, 8))\n",
    "ins_data.plot(kind='scatter', x='Zone', y='Payment', ax=axs[1])\n",
    "ins_data.plot(kind='scatter', x='Bonus', y='Payment', ax=axs[2])\n",
    "ins_data.plot(kind='scatter', x='Make', y='Payment', ax=axs[3], figsize=(16, 8))\n",
    "ins_data.plot(kind='scatter', x='Insured', y='Payment', ax=axs[4])\n",
    "ins_data.plot(kind='scatter', x='Claims', y='Payment', ax=axs[5])"
   ]
  },
  {
   "cell_type": "markdown",
   "metadata": {},
   "source": [
    "____\n",
    "### **Q.4 The insurance company is planning to establish a new branch office, so they are interested to find at what location, kilometer, and bonuslevel their insured amount,claims, and payment get increased.**\n",
    "____"
   ]
  },
  {
   "cell_type": "code",
   "execution_count": 262,
   "metadata": {},
   "outputs": [
    {
     "data": {
      "text/html": [
       "<div>\n",
       "<style scoped>\n",
       "    .dataframe tbody tr th:only-of-type {\n",
       "        vertical-align: middle;\n",
       "    }\n",
       "\n",
       "    .dataframe tbody tr th {\n",
       "        vertical-align: top;\n",
       "    }\n",
       "\n",
       "    .dataframe thead th {\n",
       "        text-align: right;\n",
       "    }\n",
       "</style>\n",
       "<table border=\"1\" class=\"dataframe\">\n",
       "  <thead>\n",
       "    <tr style=\"text-align: right;\">\n",
       "      <th></th>\n",
       "      <th>Insured</th>\n",
       "      <th>Claims</th>\n",
       "      <th>Payment</th>\n",
       "    </tr>\n",
       "    <tr>\n",
       "      <th>Zone</th>\n",
       "      <th></th>\n",
       "      <th></th>\n",
       "      <th></th>\n",
       "    </tr>\n",
       "  </thead>\n",
       "  <tbody>\n",
       "    <tr>\n",
       "      <th>4</th>\n",
       "      <td>2689.380413</td>\n",
       "      <td>101.311111</td>\n",
       "      <td>537071.755556</td>\n",
       "    </tr>\n",
       "    <tr>\n",
       "      <th>1</th>\n",
       "      <td>1036.171746</td>\n",
       "      <td>73.568254</td>\n",
       "      <td>338518.946032</td>\n",
       "    </tr>\n",
       "    <tr>\n",
       "      <th>2</th>\n",
       "      <td>1231.481841</td>\n",
       "      <td>67.625397</td>\n",
       "      <td>319921.517460</td>\n",
       "    </tr>\n",
       "    <tr>\n",
       "      <th>3</th>\n",
       "      <td>1362.958698</td>\n",
       "      <td>63.295238</td>\n",
       "      <td>307550.853968</td>\n",
       "    </tr>\n",
       "    <tr>\n",
       "      <th>6</th>\n",
       "      <td>802.684571</td>\n",
       "      <td>32.577778</td>\n",
       "      <td>175528.469841</td>\n",
       "    </tr>\n",
       "    <tr>\n",
       "      <th>5</th>\n",
       "      <td>384.801885</td>\n",
       "      <td>19.047923</td>\n",
       "      <td>93001.843450</td>\n",
       "    </tr>\n",
       "    <tr>\n",
       "      <th>7</th>\n",
       "      <td>64.910714</td>\n",
       "      <td>2.108844</td>\n",
       "      <td>9948.190476</td>\n",
       "    </tr>\n",
       "  </tbody>\n",
       "</table>\n",
       "</div>"
      ],
      "text/plain": [
       "          Insured      Claims        Payment\n",
       "Zone                                        \n",
       "4     2689.380413  101.311111  537071.755556\n",
       "1     1036.171746   73.568254  338518.946032\n",
       "2     1231.481841   67.625397  319921.517460\n",
       "3     1362.958698   63.295238  307550.853968\n",
       "6      802.684571   32.577778  175528.469841\n",
       "5      384.801885   19.047923   93001.843450\n",
       "7       64.910714    2.108844    9948.190476"
      ]
     },
     "metadata": {},
     "output_type": "display_data"
    }
   ],
   "source": [
    "ins_data2 = ins_data.groupby(['Zone']).mean()\n",
    "ins_data2 = ins_data2.drop(columns = ['Kilometres', 'Bonus', 'Make'])\n",
    "ins_data2 = ins_data2.sort_values(by = 'Payment',ascending = False)\n",
    "display(ins_data2)"
   ]
  },
  {
   "cell_type": "markdown",
   "metadata": {},
   "source": [
    "***\n",
    "**Zone 4 has highest number of claims and highest payment as well.**\n",
    "***"
   ]
  },
  {
   "cell_type": "code",
   "execution_count": 263,
   "metadata": {},
   "outputs": [
    {
     "data": {
      "text/html": [
       "<div>\n",
       "<style scoped>\n",
       "    .dataframe tbody tr th:only-of-type {\n",
       "        vertical-align: middle;\n",
       "    }\n",
       "\n",
       "    .dataframe tbody tr th {\n",
       "        vertical-align: top;\n",
       "    }\n",
       "\n",
       "    .dataframe thead th {\n",
       "        text-align: right;\n",
       "    }\n",
       "</style>\n",
       "<table border=\"1\" class=\"dataframe\">\n",
       "  <thead>\n",
       "    <tr style=\"text-align: right;\">\n",
       "      <th></th>\n",
       "      <th>Insured</th>\n",
       "      <th>Claims</th>\n",
       "      <th>Payment</th>\n",
       "    </tr>\n",
       "    <tr>\n",
       "      <th>Kilometres</th>\n",
       "      <th></th>\n",
       "      <th></th>\n",
       "      <th></th>\n",
       "    </tr>\n",
       "  </thead>\n",
       "  <tbody>\n",
       "    <tr>\n",
       "      <th>2</th>\n",
       "      <td>1824.028844</td>\n",
       "      <td>89.276644</td>\n",
       "      <td>442523.780045</td>\n",
       "    </tr>\n",
       "    <tr>\n",
       "      <th>1</th>\n",
       "      <td>1837.816287</td>\n",
       "      <td>75.594533</td>\n",
       "      <td>361899.350797</td>\n",
       "    </tr>\n",
       "    <tr>\n",
       "      <th>3</th>\n",
       "      <td>1081.971383</td>\n",
       "      <td>54.160998</td>\n",
       "      <td>272012.582766</td>\n",
       "    </tr>\n",
       "    <tr>\n",
       "      <th>4</th>\n",
       "      <td>398.963226</td>\n",
       "      <td>20.794931</td>\n",
       "      <td>108213.405530</td>\n",
       "    </tr>\n",
       "    <tr>\n",
       "      <th>5</th>\n",
       "      <td>284.947518</td>\n",
       "      <td>18.042155</td>\n",
       "      <td>93306.117096</td>\n",
       "    </tr>\n",
       "  </tbody>\n",
       "</table>\n",
       "</div>"
      ],
      "text/plain": [
       "                Insured     Claims        Payment\n",
       "Kilometres                                       \n",
       "2           1824.028844  89.276644  442523.780045\n",
       "1           1837.816287  75.594533  361899.350797\n",
       "3           1081.971383  54.160998  272012.582766\n",
       "4            398.963226  20.794931  108213.405530\n",
       "5            284.947518  18.042155   93306.117096"
      ]
     },
     "metadata": {},
     "output_type": "display_data"
    }
   ],
   "source": [
    "ins_data3 = ins_data.groupby(['Kilometres']).mean()\n",
    "ins_data3 = ins_data3.drop(columns=['Zone', 'Bonus', 'Make'])\n",
    "ins_data3 = ins_data3.sort_values(by='Payment', ascending=False)\n",
    "display(ins_data3)"
   ]
  },
  {
   "cell_type": "markdown",
   "metadata": {},
   "source": [
    "**Kilometer group 2 has highest amount of payment**"
   ]
  },
  {
   "cell_type": "code",
   "execution_count": 264,
   "metadata": {
    "scrolled": true
   },
   "outputs": [
    {
     "data": {
      "text/html": [
       "<div>\n",
       "<style scoped>\n",
       "    .dataframe tbody tr th:only-of-type {\n",
       "        vertical-align: middle;\n",
       "    }\n",
       "\n",
       "    .dataframe tbody tr th {\n",
       "        vertical-align: top;\n",
       "    }\n",
       "\n",
       "    .dataframe thead th {\n",
       "        text-align: right;\n",
       "    }\n",
       "</style>\n",
       "<table border=\"1\" class=\"dataframe\">\n",
       "  <thead>\n",
       "    <tr style=\"text-align: right;\">\n",
       "      <th></th>\n",
       "      <th>Insured</th>\n",
       "      <th>Claims</th>\n",
       "      <th>Payment</th>\n",
       "    </tr>\n",
       "    <tr>\n",
       "      <th>Bonus</th>\n",
       "      <th></th>\n",
       "      <th></th>\n",
       "      <th></th>\n",
       "    </tr>\n",
       "  </thead>\n",
       "  <tbody>\n",
       "    <tr>\n",
       "      <th>7</th>\n",
       "      <td>4620.372762</td>\n",
       "      <td>157.222222</td>\n",
       "      <td>819322.476190</td>\n",
       "    </tr>\n",
       "    <tr>\n",
       "      <th>1</th>\n",
       "      <td>525.550195</td>\n",
       "      <td>62.504886</td>\n",
       "      <td>282921.993485</td>\n",
       "    </tr>\n",
       "    <tr>\n",
       "      <th>6</th>\n",
       "      <td>805.816730</td>\n",
       "      <td>39.942857</td>\n",
       "      <td>197723.819048</td>\n",
       "    </tr>\n",
       "    <tr>\n",
       "      <th>2</th>\n",
       "      <td>451.075449</td>\n",
       "      <td>34.233974</td>\n",
       "      <td>163316.625000</td>\n",
       "    </tr>\n",
       "    <tr>\n",
       "      <th>3</th>\n",
       "      <td>397.473742</td>\n",
       "      <td>24.974194</td>\n",
       "      <td>122656.174194</td>\n",
       "    </tr>\n",
       "    <tr>\n",
       "      <th>5</th>\n",
       "      <td>437.393610</td>\n",
       "      <td>22.821086</td>\n",
       "      <td>108790.504792</td>\n",
       "    </tr>\n",
       "    <tr>\n",
       "      <th>4</th>\n",
       "      <td>360.386710</td>\n",
       "      <td>20.351613</td>\n",
       "      <td>98498.119355</td>\n",
       "    </tr>\n",
       "  </tbody>\n",
       "</table>\n",
       "</div>"
      ],
      "text/plain": [
       "           Insured      Claims        Payment\n",
       "Bonus                                        \n",
       "7      4620.372762  157.222222  819322.476190\n",
       "1       525.550195   62.504886  282921.993485\n",
       "6       805.816730   39.942857  197723.819048\n",
       "2       451.075449   34.233974  163316.625000\n",
       "3       397.473742   24.974194  122656.174194\n",
       "5       437.393610   22.821086  108790.504792\n",
       "4       360.386710   20.351613   98498.119355"
      ]
     },
     "metadata": {},
     "output_type": "display_data"
    }
   ],
   "source": [
    "ins_data4 = ins_data.groupby(['Bonus']).mean()\n",
    "ins_data4 = ins_data4.drop(columns = ['Kilometres','Zone', 'Make'])\n",
    "ins_data4 = ins_data4.sort_values(by = 'Payment',ascending = False)\n",
    "display(ins_data4)"
   ]
  },
  {
   "cell_type": "markdown",
   "metadata": {},
   "source": [
    "***\n",
    "**For the Bonus level 7 there is highest number of claims as well as payment.**\n",
    "***"
   ]
  },
  {
   "cell_type": "markdown",
   "metadata": {},
   "source": [
    "***\n",
    "#### **Q.4 Conclusion**\n",
    "- ** Zone 4 has highest number of claims and highest payment as well.**\n",
    "- ** Kilometer group 2 has highest amount of payment**\n",
    "- ** For the Bonus level 7 there is highest number of claims as well as payment.**\n",
    "***"
   ]
  },
  {
   "cell_type": "markdown",
   "metadata": {},
   "source": [
    "___\n",
    "### **Q.5 The committee wants to understand what affects their claim rates so as to decide the right premiums for a certain set of situations.Hence, they need to find whether the insured amount, zone, kilometer, bonus, or make affects the claim rates and to what extent.**\n",
    "___"
   ]
  },
  {
   "cell_type": "markdown",
   "metadata": {},
   "source": [
    ">**Dependent variable = Claims**\n",
    "\n",
    ">**Independent variable = insured amount, zone, Kilometres, bonus, make**"
   ]
  },
  {
   "cell_type": "code",
   "execution_count": 265,
   "metadata": {},
   "outputs": [
    {
     "name": "stdout",
     "output_type": "stream",
     "text": [
      "                            OLS Regression Results                            \n",
      "==============================================================================\n",
      "Dep. Variable:                 Claims   R-squared:                       0.842\n",
      "Model:                            OLS   Adj. R-squared:                  0.842\n",
      "Method:                 Least Squares   F-statistic:                     2328.\n",
      "Date:                Fri, 03 Dec 2021   Prob (F-statistic):               0.00\n",
      "Time:                        08:56:58   Log-Likelihood:                -12659.\n",
      "No. Observations:                2182   AIC:                         2.533e+04\n",
      "Df Residuals:                    2176   BIC:                         2.536e+04\n",
      "Df Model:                           5                                         \n",
      "Covariance Type:            nonrobust                                         \n",
      "==============================================================================\n",
      "                 coef    std err          t      P>|t|      [0.025      0.975]\n",
      "------------------------------------------------------------------------------\n",
      "const         37.1230      7.127      5.209      0.000      23.146      51.100\n",
      "Kilometres    -3.9649      1.226     -3.235      0.001      -6.368      -1.562\n",
      "Zone          -6.2924      0.865     -7.277      0.000      -7.988      -4.597\n",
      "Bonus         -4.2468      0.871     -4.877      0.000      -5.954      -2.539\n",
      "Make           6.7725      0.676     10.025      0.000       5.448       8.097\n",
      "Insured        0.0319      0.000    100.933      0.000       0.031       0.032\n",
      "==============================================================================\n",
      "Omnibus:                     2561.874   Durbin-Watson:                   1.931\n",
      "Prob(Omnibus):                  0.000   Jarque-Bera (JB):          1103060.709\n",
      "Skew:                           5.491   Prob(JB):                         0.00\n",
      "Kurtosis:                     112.599   Cond. No.                     2.41e+04\n",
      "==============================================================================\n",
      "\n",
      "Notes:\n",
      "[1] Standard Errors assume that the covariance matrix of the errors is correctly specified.\n",
      "[2] The condition number is large, 2.41e+04. This might indicate that there are\n",
      "strong multicollinearity or other numerical problems.\n"
     ]
    },
    {
     "name": "stderr",
     "output_type": "stream",
     "text": [
      "/usr/lib/python3.7/site-packages/statsmodels/tsa/tsatools.py:142: FutureWarning: In a future version of pandas all arguments of concat except for the argument 'objs' will be keyword-only\n",
      "  x = pd.concat(x[::order], 1)\n"
     ]
    }
   ],
   "source": [
    "X3 = ins_data[[ 'Kilometres', 'Zone', 'Bonus', 'Make', 'Insured']] # independent variables\n",
    "y3 = ins_data[['Claims']] # dependent variable\n",
    "X3 = sm.add_constant(X3)\n",
    "est2 = sm.OLS(y3, X3)\n",
    "est3 = est2.fit()\n",
    "print(est3.summary())"
   ]
  },
  {
   "cell_type": "markdown",
   "metadata": {},
   "source": [
    "***\n",
    "#### **Q.5 Conclusion**\n",
    "** It shows that P value for all variables Kilometres, Zone, Bonus, Make and Isured amount are less than 0.05. So they are significant variables for the Claims.**\n",
    "***"
   ]
  },
  {
   "cell_type": "markdown",
   "metadata": {
    "collapsed": true
   },
   "source": [
    "___\n",
    ">>>>>##                                            **Good Luck.**\n",
    "___"
   ]
  }
 ],
 "metadata": {
  "celltoolbar": "Raw Cell Format",
  "kernelspec": {
   "display_name": "Python 3 [3.7]",
   "language": "python",
   "name": "python3"
  },
  "language_info": {
   "codemirror_mode": {
    "name": "ipython",
    "version": 3
   },
   "file_extension": ".py",
   "mimetype": "text/x-python",
   "name": "python",
   "nbconvert_exporter": "python",
   "pygments_lexer": "ipython3",
   "version": "3.7.5"
  },
  "toc": {
   "base_numbering": 1,
   "nav_menu": {},
   "number_sections": false,
   "sideBar": true,
   "skip_h1_title": true,
   "title_cell": "Table of Contents",
   "title_sidebar": "",
   "toc_cell": true,
   "toc_position": {
    "height": "calc(100% - 180px)",
    "left": "10px",
    "top": "150px",
    "width": "329px"
   },
   "toc_section_display": true,
   "toc_window_display": true
  }
 },
 "nbformat": 4,
 "nbformat_minor": 5
}
